{
 "cells": [
  {
   "cell_type": "markdown",
   "metadata": {},
   "source": [
    "## Identify Most Influential Drivers for Customer Churn and Classification Modeling\n",
    "\n",
    "### Goals\n",
    "My goal for this project is to construct a classification model that accurately predicts customer churn. At the same time, I would like to idendity which of these conditions and attributes are the biggest dirivers for customer churn. I will deliver the following: acquire.py, prepare.py, report.ipynb, and predictions.csv.\n",
    "\n",
    "### Measure of success\n",
    "* Biggest 5 drivers for customer churn\n",
    "* A robust and general classification model"
   ]
  },
  {
   "cell_type": "markdown",
   "metadata": {},
   "source": [
    "### Data Acquisition\n",
    "acquire data by acquire.py"
   ]
  },
  {
   "cell_type": "code",
   "execution_count": 1,
   "metadata": {},
   "outputs": [],
   "source": [
    "# prepare environment\n",
    "\n",
    "import warnings\n",
    "warnings.filterwarnings(\"ignore\")\n",
    "\n",
    "import numpy as np\n",
    "import pandas as pd\n",
    "\n",
    "import matplotlib.pyplot as plt\n",
    "import seaborn as sns\n",
    "\n",
    "from scipy import stats\n",
    "\n",
    "from sklearn.linear_model import LogisticRegression\n",
    "from sklearn.tree import DecisionTreeClassifier, export_graphviz\n",
    "from sklearn.metrics import classification_report, confusion_matrix\n",
    "from sklearn.ensemble import RandomForestClassifier\n",
    "from sklearn.neighbors import KNeighborsClassifier\n",
    "\n",
    "import acquire, preparea"
   ]
  },
  {
   "cell_type": "code",
   "execution_count": 2,
   "metadata": {
    "scrolled": true
   },
   "outputs": [
    {
     "data": {
      "text/html": [
       "<div>\n",
       "<style scoped>\n",
       "    .dataframe tbody tr th:only-of-type {\n",
       "        vertical-align: middle;\n",
       "    }\n",
       "\n",
       "    .dataframe tbody tr th {\n",
       "        vertical-align: top;\n",
       "    }\n",
       "\n",
       "    .dataframe thead th {\n",
       "        text-align: right;\n",
       "    }\n",
       "</style>\n",
       "<table border=\"1\" class=\"dataframe\">\n",
       "  <thead>\n",
       "    <tr style=\"text-align: right;\">\n",
       "      <th></th>\n",
       "      <th>payment_type_id</th>\n",
       "      <th>internet_service_type_id</th>\n",
       "      <th>contract_type_id</th>\n",
       "      <th>customer_id</th>\n",
       "      <th>gender</th>\n",
       "      <th>senior_citizen</th>\n",
       "      <th>partner</th>\n",
       "      <th>dependents</th>\n",
       "      <th>tenure</th>\n",
       "      <th>phone_service</th>\n",
       "      <th>...</th>\n",
       "      <th>tech_support</th>\n",
       "      <th>streaming_tv</th>\n",
       "      <th>streaming_movies</th>\n",
       "      <th>paperless_billing</th>\n",
       "      <th>monthly_charges</th>\n",
       "      <th>total_charges</th>\n",
       "      <th>churn</th>\n",
       "      <th>contract_type</th>\n",
       "      <th>internet_service_type</th>\n",
       "      <th>payment_type</th>\n",
       "    </tr>\n",
       "  </thead>\n",
       "  <tbody>\n",
       "    <tr>\n",
       "      <th>0</th>\n",
       "      <td>2</td>\n",
       "      <td>1</td>\n",
       "      <td>1</td>\n",
       "      <td>0003-MKNFE</td>\n",
       "      <td>Male</td>\n",
       "      <td>0</td>\n",
       "      <td>No</td>\n",
       "      <td>No</td>\n",
       "      <td>9</td>\n",
       "      <td>Yes</td>\n",
       "      <td>...</td>\n",
       "      <td>No</td>\n",
       "      <td>No</td>\n",
       "      <td>Yes</td>\n",
       "      <td>No</td>\n",
       "      <td>59.9</td>\n",
       "      <td>542.4</td>\n",
       "      <td>No</td>\n",
       "      <td>Month-to-month</td>\n",
       "      <td>DSL</td>\n",
       "      <td>Mailed check</td>\n",
       "    </tr>\n",
       "    <tr>\n",
       "      <th>1</th>\n",
       "      <td>4</td>\n",
       "      <td>1</td>\n",
       "      <td>1</td>\n",
       "      <td>0013-MHZWF</td>\n",
       "      <td>Female</td>\n",
       "      <td>0</td>\n",
       "      <td>No</td>\n",
       "      <td>Yes</td>\n",
       "      <td>9</td>\n",
       "      <td>Yes</td>\n",
       "      <td>...</td>\n",
       "      <td>Yes</td>\n",
       "      <td>Yes</td>\n",
       "      <td>Yes</td>\n",
       "      <td>Yes</td>\n",
       "      <td>69.4</td>\n",
       "      <td>571.45</td>\n",
       "      <td>No</td>\n",
       "      <td>Month-to-month</td>\n",
       "      <td>DSL</td>\n",
       "      <td>Credit card (automatic)</td>\n",
       "    </tr>\n",
       "    <tr>\n",
       "      <th>2</th>\n",
       "      <td>1</td>\n",
       "      <td>1</td>\n",
       "      <td>1</td>\n",
       "      <td>0015-UOCOJ</td>\n",
       "      <td>Female</td>\n",
       "      <td>1</td>\n",
       "      <td>No</td>\n",
       "      <td>No</td>\n",
       "      <td>7</td>\n",
       "      <td>Yes</td>\n",
       "      <td>...</td>\n",
       "      <td>No</td>\n",
       "      <td>No</td>\n",
       "      <td>No</td>\n",
       "      <td>Yes</td>\n",
       "      <td>48.2</td>\n",
       "      <td>340.35</td>\n",
       "      <td>No</td>\n",
       "      <td>Month-to-month</td>\n",
       "      <td>DSL</td>\n",
       "      <td>Electronic check</td>\n",
       "    </tr>\n",
       "    <tr>\n",
       "      <th>3</th>\n",
       "      <td>1</td>\n",
       "      <td>1</td>\n",
       "      <td>1</td>\n",
       "      <td>0023-HGHWL</td>\n",
       "      <td>Male</td>\n",
       "      <td>1</td>\n",
       "      <td>No</td>\n",
       "      <td>No</td>\n",
       "      <td>1</td>\n",
       "      <td>No</td>\n",
       "      <td>...</td>\n",
       "      <td>No</td>\n",
       "      <td>No</td>\n",
       "      <td>No</td>\n",
       "      <td>Yes</td>\n",
       "      <td>25.1</td>\n",
       "      <td>25.1</td>\n",
       "      <td>Yes</td>\n",
       "      <td>Month-to-month</td>\n",
       "      <td>DSL</td>\n",
       "      <td>Electronic check</td>\n",
       "    </tr>\n",
       "    <tr>\n",
       "      <th>4</th>\n",
       "      <td>3</td>\n",
       "      <td>1</td>\n",
       "      <td>1</td>\n",
       "      <td>0032-PGELS</td>\n",
       "      <td>Female</td>\n",
       "      <td>0</td>\n",
       "      <td>Yes</td>\n",
       "      <td>Yes</td>\n",
       "      <td>1</td>\n",
       "      <td>No</td>\n",
       "      <td>...</td>\n",
       "      <td>No</td>\n",
       "      <td>No</td>\n",
       "      <td>No</td>\n",
       "      <td>No</td>\n",
       "      <td>30.5</td>\n",
       "      <td>30.5</td>\n",
       "      <td>Yes</td>\n",
       "      <td>Month-to-month</td>\n",
       "      <td>DSL</td>\n",
       "      <td>Bank transfer (automatic)</td>\n",
       "    </tr>\n",
       "  </tbody>\n",
       "</table>\n",
       "<p>5 rows × 24 columns</p>\n",
       "</div>"
      ],
      "text/plain": [
       "   payment_type_id  internet_service_type_id  contract_type_id customer_id  \\\n",
       "0                2                         1                 1  0003-MKNFE   \n",
       "1                4                         1                 1  0013-MHZWF   \n",
       "2                1                         1                 1  0015-UOCOJ   \n",
       "3                1                         1                 1  0023-HGHWL   \n",
       "4                3                         1                 1  0032-PGELS   \n",
       "\n",
       "   gender  senior_citizen partner dependents  tenure phone_service  ...  \\\n",
       "0    Male               0      No         No       9           Yes  ...   \n",
       "1  Female               0      No        Yes       9           Yes  ...   \n",
       "2  Female               1      No         No       7           Yes  ...   \n",
       "3    Male               1      No         No       1            No  ...   \n",
       "4  Female               0     Yes        Yes       1            No  ...   \n",
       "\n",
       "  tech_support streaming_tv streaming_movies paperless_billing  \\\n",
       "0           No           No              Yes                No   \n",
       "1          Yes          Yes              Yes               Yes   \n",
       "2           No           No               No               Yes   \n",
       "3           No           No               No               Yes   \n",
       "4           No           No               No                No   \n",
       "\n",
       "  monthly_charges total_charges churn   contract_type  internet_service_type  \\\n",
       "0            59.9         542.4    No  Month-to-month                    DSL   \n",
       "1            69.4        571.45    No  Month-to-month                    DSL   \n",
       "2            48.2        340.35    No  Month-to-month                    DSL   \n",
       "3            25.1          25.1   Yes  Month-to-month                    DSL   \n",
       "4            30.5          30.5   Yes  Month-to-month                    DSL   \n",
       "\n",
       "                payment_type  \n",
       "0               Mailed check  \n",
       "1    Credit card (automatic)  \n",
       "2           Electronic check  \n",
       "3           Electronic check  \n",
       "4  Bank transfer (automatic)  \n",
       "\n",
       "[5 rows x 24 columns]"
      ]
     },
     "execution_count": 2,
     "metadata": {},
     "output_type": "execute_result"
    }
   ],
   "source": [
    "# load data in form of pandas data frame. \n",
    "\n",
    "df = acquire.get_telco_churn_data()\n",
    "df.head()"
   ]
  },
  {
   "cell_type": "markdown",
   "metadata": {},
   "source": [
    "### Preapre\n",
    "Summarize Data"
   ]
  },
  {
   "cell_type": "code",
   "execution_count": 3,
   "metadata": {
    "scrolled": false
   },
   "outputs": [
    {
     "name": "stdout",
     "output_type": "stream",
     "text": [
      "<class 'pandas.core.frame.DataFrame'>\n",
      "Int64Index: 7043 entries, 0 to 7042\n",
      "Data columns (total 24 columns):\n",
      " #   Column                    Non-Null Count  Dtype  \n",
      "---  ------                    --------------  -----  \n",
      " 0   payment_type_id           7043 non-null   int64  \n",
      " 1   internet_service_type_id  7043 non-null   int64  \n",
      " 2   contract_type_id          7043 non-null   int64  \n",
      " 3   customer_id               7043 non-null   object \n",
      " 4   gender                    7043 non-null   object \n",
      " 5   senior_citizen            7043 non-null   int64  \n",
      " 6   partner                   7043 non-null   object \n",
      " 7   dependents                7043 non-null   object \n",
      " 8   tenure                    7043 non-null   int64  \n",
      " 9   phone_service             7043 non-null   object \n",
      " 10  multiple_lines            7043 non-null   object \n",
      " 11  online_security           7043 non-null   object \n",
      " 12  online_backup             7043 non-null   object \n",
      " 13  device_protection         7043 non-null   object \n",
      " 14  tech_support              7043 non-null   object \n",
      " 15  streaming_tv              7043 non-null   object \n",
      " 16  streaming_movies          7043 non-null   object \n",
      " 17  paperless_billing         7043 non-null   object \n",
      " 18  monthly_charges           7043 non-null   float64\n",
      " 19  total_charges             7043 non-null   object \n",
      " 20  churn                     7043 non-null   object \n",
      " 21  contract_type             7043 non-null   object \n",
      " 22  internet_service_type     7043 non-null   object \n",
      " 23  payment_type              7043 non-null   object \n",
      "dtypes: float64(1), int64(5), object(18)\n",
      "memory usage: 1.3+ MB\n"
     ]
    }
   ],
   "source": [
    "df.info()"
   ]
  },
  {
   "cell_type": "code",
   "execution_count": 4,
   "metadata": {},
   "outputs": [
    {
     "data": {
      "text/plain": [
       "payment_type_id             0\n",
       "internet_service_type_id    0\n",
       "contract_type_id            0\n",
       "customer_id                 0\n",
       "gender                      0\n",
       "senior_citizen              0\n",
       "partner                     0\n",
       "dependents                  0\n",
       "tenure                      0\n",
       "phone_service               0\n",
       "multiple_lines              0\n",
       "online_security             0\n",
       "online_backup               0\n",
       "device_protection           0\n",
       "tech_support                0\n",
       "streaming_tv                0\n",
       "streaming_movies            0\n",
       "paperless_billing           0\n",
       "monthly_charges             0\n",
       "total_charges               0\n",
       "churn                       0\n",
       "contract_type               0\n",
       "internet_service_type       0\n",
       "payment_type                0\n",
       "dtype: int64"
      ]
     },
     "execution_count": 4,
     "metadata": {},
     "output_type": "execute_result"
    }
   ],
   "source": [
    "df.isnull().sum()"
   ]
  },
  {
   "cell_type": "code",
   "execution_count": 5,
   "metadata": {
    "scrolled": false
   },
   "outputs": [
    {
     "data": {
      "text/plain": [
       "payment_type_id                4\n",
       "internet_service_type_id       3\n",
       "contract_type_id               3\n",
       "customer_id                 7043\n",
       "gender                         2\n",
       "senior_citizen                 2\n",
       "partner                        2\n",
       "dependents                     2\n",
       "tenure                        73\n",
       "phone_service                  2\n",
       "multiple_lines                 3\n",
       "online_security                3\n",
       "online_backup                  3\n",
       "device_protection              3\n",
       "tech_support                   3\n",
       "streaming_tv                   3\n",
       "streaming_movies               3\n",
       "paperless_billing              2\n",
       "monthly_charges             1585\n",
       "total_charges               6531\n",
       "churn                          2\n",
       "contract_type                  3\n",
       "internet_service_type          3\n",
       "payment_type                   4\n",
       "dtype: int64"
      ]
     },
     "execution_count": 5,
     "metadata": {},
     "output_type": "execute_result"
    }
   ],
   "source": [
    "df.nunique()"
   ]
  },
  {
   "cell_type": "code",
   "execution_count": 6,
   "metadata": {
    "scrolled": false
   },
   "outputs": [
    {
     "data": {
      "text/html": [
       "<div>\n",
       "<style scoped>\n",
       "    .dataframe tbody tr th:only-of-type {\n",
       "        vertical-align: middle;\n",
       "    }\n",
       "\n",
       "    .dataframe tbody tr th {\n",
       "        vertical-align: top;\n",
       "    }\n",
       "\n",
       "    .dataframe thead th {\n",
       "        text-align: right;\n",
       "    }\n",
       "</style>\n",
       "<table border=\"1\" class=\"dataframe\">\n",
       "  <thead>\n",
       "    <tr style=\"text-align: right;\">\n",
       "      <th></th>\n",
       "      <th>count</th>\n",
       "      <th>mean</th>\n",
       "      <th>std</th>\n",
       "      <th>min</th>\n",
       "      <th>25%</th>\n",
       "      <th>50%</th>\n",
       "      <th>75%</th>\n",
       "      <th>max</th>\n",
       "    </tr>\n",
       "  </thead>\n",
       "  <tbody>\n",
       "    <tr>\n",
       "      <th>payment_type_id</th>\n",
       "      <td>7043.0</td>\n",
       "      <td>2.315633</td>\n",
       "      <td>1.148907</td>\n",
       "      <td>1.00</td>\n",
       "      <td>1.0</td>\n",
       "      <td>2.00</td>\n",
       "      <td>3.00</td>\n",
       "      <td>4.00</td>\n",
       "    </tr>\n",
       "    <tr>\n",
       "      <th>internet_service_type_id</th>\n",
       "      <td>7043.0</td>\n",
       "      <td>1.872923</td>\n",
       "      <td>0.737796</td>\n",
       "      <td>1.00</td>\n",
       "      <td>1.0</td>\n",
       "      <td>2.00</td>\n",
       "      <td>2.00</td>\n",
       "      <td>3.00</td>\n",
       "    </tr>\n",
       "    <tr>\n",
       "      <th>contract_type_id</th>\n",
       "      <td>7043.0</td>\n",
       "      <td>1.690473</td>\n",
       "      <td>0.833755</td>\n",
       "      <td>1.00</td>\n",
       "      <td>1.0</td>\n",
       "      <td>1.00</td>\n",
       "      <td>2.00</td>\n",
       "      <td>3.00</td>\n",
       "    </tr>\n",
       "    <tr>\n",
       "      <th>senior_citizen</th>\n",
       "      <td>7043.0</td>\n",
       "      <td>0.162147</td>\n",
       "      <td>0.368612</td>\n",
       "      <td>0.00</td>\n",
       "      <td>0.0</td>\n",
       "      <td>0.00</td>\n",
       "      <td>0.00</td>\n",
       "      <td>1.00</td>\n",
       "    </tr>\n",
       "    <tr>\n",
       "      <th>tenure</th>\n",
       "      <td>7043.0</td>\n",
       "      <td>32.371149</td>\n",
       "      <td>24.559481</td>\n",
       "      <td>0.00</td>\n",
       "      <td>9.0</td>\n",
       "      <td>29.00</td>\n",
       "      <td>55.00</td>\n",
       "      <td>72.00</td>\n",
       "    </tr>\n",
       "    <tr>\n",
       "      <th>monthly_charges</th>\n",
       "      <td>7043.0</td>\n",
       "      <td>64.761692</td>\n",
       "      <td>30.090047</td>\n",
       "      <td>18.25</td>\n",
       "      <td>35.5</td>\n",
       "      <td>70.35</td>\n",
       "      <td>89.85</td>\n",
       "      <td>118.75</td>\n",
       "    </tr>\n",
       "  </tbody>\n",
       "</table>\n",
       "</div>"
      ],
      "text/plain": [
       "                           count       mean        std    min   25%    50%  \\\n",
       "payment_type_id           7043.0   2.315633   1.148907   1.00   1.0   2.00   \n",
       "internet_service_type_id  7043.0   1.872923   0.737796   1.00   1.0   2.00   \n",
       "contract_type_id          7043.0   1.690473   0.833755   1.00   1.0   1.00   \n",
       "senior_citizen            7043.0   0.162147   0.368612   0.00   0.0   0.00   \n",
       "tenure                    7043.0  32.371149  24.559481   0.00   9.0  29.00   \n",
       "monthly_charges           7043.0  64.761692  30.090047  18.25  35.5  70.35   \n",
       "\n",
       "                            75%     max  \n",
       "payment_type_id            3.00    4.00  \n",
       "internet_service_type_id   2.00    3.00  \n",
       "contract_type_id           2.00    3.00  \n",
       "senior_citizen             0.00    1.00  \n",
       "tenure                    55.00   72.00  \n",
       "monthly_charges           89.85  118.75  "
      ]
     },
     "execution_count": 6,
     "metadata": {},
     "output_type": "execute_result"
    }
   ],
   "source": [
    "df.describe().T"
   ]
  },
  {
   "cell_type": "markdown",
   "metadata": {},
   "source": [
    "Plot Distribution of Individual Variables"
   ]
  },
  {
   "cell_type": "code",
   "execution_count": 7,
   "metadata": {},
   "outputs": [
    {
     "data": {
      "text/plain": [
       "<matplotlib.axes._subplots.AxesSubplot at 0x7fa1defc4710>"
      ]
     },
     "execution_count": 7,
     "metadata": {},
     "output_type": "execute_result"
    },
    {
     "data": {
      "image/png": "[encoded data removed]",
      "text/plain": [
       "<Figure size 432x288 with 1 Axes>"
      ]
     },
     "metadata": {
      "needs_background": "light"
     },
     "output_type": "display_data"
    }
   ],
   "source": [
    "df.gender.value_counts().plot.barh()"
   ]
  },
  {
   "cell_type": "code",
   "execution_count": 8,
   "metadata": {},
   "outputs": [
    {
     "data": {
      "text/plain": [
       "<matplotlib.axes._subplots.AxesSubplot at 0x7fa1e3564350>"
      ]
     },
     "execution_count": 8,
     "metadata": {},
     "output_type": "execute_result"
    },
    {
     "data": {
      "image/png": "[encoded data removed]",
      "text/plain": [
       "<Figure size 432x288 with 1 Axes>"
      ]
     },
     "metadata": {
      "needs_background": "light"
     },
     "output_type": "display_data"
    }
   ],
   "source": [
    "df.senior_citizen.value_counts().plot.barh()"
   ]
  },
  {
   "cell_type": "code",
   "execution_count": 9,
   "metadata": {},
   "outputs": [
    {
     "data": {
      "text/plain": [
       "<matplotlib.axes._subplots.AxesSubplot at 0x7fa1e367f650>"
      ]
     },
     "execution_count": 9,
     "metadata": {},
     "output_type": "execute_result"
    },
    {
     "data": {
      "image/png": "[encoded data removed]",
      "text/plain": [
       "<Figure size 432x288 with 1 Axes>"
      ]
     },
     "metadata": {
      "needs_background": "light"
     },
     "output_type": "display_data"
    }
   ],
   "source": [
    "df.partner.value_counts().plot.barh()"
   ]
  },
  {
   "cell_type": "code",
   "execution_count": 10,
   "metadata": {
    "scrolled": true
   },
   "outputs": [
    {
     "data": {
      "text/plain": [
       "<matplotlib.axes._subplots.AxesSubplot at 0x7fa1e3788c90>"
      ]
     },
     "execution_count": 10,
     "metadata": {},
     "output_type": "execute_result"
    },
    {
     "data": {
      "image/png": "[encoded data removed]",
      "text/plain": [
       "<Figure size 432x288 with 1 Axes>"
      ]
     },
     "metadata": {
      "needs_background": "light"
     },
     "output_type": "display_data"
    }
   ],
   "source": [
    "df.dependents.value_counts().plot.barh()"
   ]
  },
  {
   "cell_type": "code",
   "execution_count": 11,
   "metadata": {},
   "outputs": [
    {
     "data": {
      "text/plain": [
       "<matplotlib.axes._subplots.AxesSubplot at 0x7fa1e393ee50>"
      ]
     },
     "execution_count": 11,
     "metadata": {},
     "output_type": "execute_result"
    },
    {
     "data": {
      "image/png": "[encoded data removed]",
      "text/plain": [
       "<Figure size 432x288 with 1 Axes>"
      ]
     },
     "metadata": {
      "needs_background": "light"
     },
     "output_type": "display_data"
    }
   ],
   "source": [
    "df.tenure.plot.hist()"
   ]
  },
  {
   "cell_type": "code",
   "execution_count": 12,
   "metadata": {},
   "outputs": [
    {
     "data": {
      "text/plain": [
       "<matplotlib.axes._subplots.AxesSubplot at 0x7fa1e3acfa50>"
      ]
     },
     "execution_count": 12,
     "metadata": {},
     "output_type": "execute_result"
    },
    {
     "data": {
      "image/png": "[encoded data removed]",
      "text/plain": [
       "<Figure size 432x288 with 1 Axes>"
      ]
     },
     "metadata": {
      "needs_background": "light"
     },
     "output_type": "display_data"
    }
   ],
   "source": [
    "df.phone_service.value_counts().plot.barh()"
   ]
  },
  {
   "cell_type": "code",
   "execution_count": 13,
   "metadata": {},
   "outputs": [
    {
     "data": {
      "text/plain": [
       "<matplotlib.axes._subplots.AxesSubplot at 0x7fa1e3b24e10>"
      ]
     },
     "execution_count": 13,
     "metadata": {},
     "output_type": "execute_result"
    },
    {
     "data": {
      "image/png": "[encoded data removed]",
      "text/plain": [
       "<Figure size 432x288 with 1 Axes>"
      ]
     },
     "metadata": {
      "needs_background": "light"
     },
     "output_type": "display_data"
    }
   ],
   "source": [
    "df.multiple_lines.value_counts().plot.barh()"
   ]
  },
  {
   "cell_type": "code",
   "execution_count": 14,
   "metadata": {},
   "outputs": [
    {
     "data": {
      "text/plain": [
       "<matplotlib.axes._subplots.AxesSubplot at 0x7fa1e3bf3910>"
      ]
     },
     "execution_count": 14,
     "metadata": {},
     "output_type": "execute_result"
    },
    {
     "data": {
      "image/png": "[encoded data removed]",
      "text/plain": [
       "<Figure size 432x288 with 1 Axes>"
      ]
     },
     "metadata": {
      "needs_background": "light"
     },
     "output_type": "display_data"
    }
   ],
   "source": [
    "df.online_backup.value_counts().plot.barh()"
   ]
  },
  {
   "cell_type": "code",
   "execution_count": 15,
   "metadata": {},
   "outputs": [
    {
     "data": {
      "text/plain": [
       "<matplotlib.axes._subplots.AxesSubplot at 0x7fa1e3dd6350>"
      ]
     },
     "execution_count": 15,
     "metadata": {},
     "output_type": "execute_result"
    },
    {
     "data": {
      "image/png": "[encoded data removed]",
      "text/plain": [
       "<Figure size 432x288 with 1 Axes>"
      ]
     },
     "metadata": {
      "needs_background": "light"
     },
     "output_type": "display_data"
    }
   ],
   "source": [
    "df.online_security.value_counts().plot.barh()"
   ]
  },
  {
   "cell_type": "code",
   "execution_count": 16,
   "metadata": {},
   "outputs": [
    {
     "data": {
      "text/plain": [
       "<matplotlib.axes._subplots.AxesSubplot at 0x7fa1e3f3ea90>"
      ]
     },
     "execution_count": 16,
     "metadata": {},
     "output_type": "execute_result"
    },
    {
     "data": {
      "image/png": "[encoded data removed]",
      "text/plain": [
       "<Figure size 432x288 with 1 Axes>"
      ]
     },
     "metadata": {
      "needs_background": "light"
     },
     "output_type": "display_data"
    }
   ],
   "source": [
    "df.tech_support.value_counts().plot.barh()"
   ]
  },
  {
   "cell_type": "code",
   "execution_count": 17,
   "metadata": {},
   "outputs": [
    {
     "data": {
      "text/plain": [
       "<matplotlib.axes._subplots.AxesSubplot at 0x7fa1e4016b10>"
      ]
     },
     "execution_count": 17,
     "metadata": {},
     "output_type": "execute_result"
    },
    {
     "data": {
      "image/png": "[encoded data removed]",
      "text/plain": [
       "<Figure size 432x288 with 1 Axes>"
      ]
     },
     "metadata": {
      "needs_background": "light"
     },
     "output_type": "display_data"
    }
   ],
   "source": [
    "df.streaming_tv.value_counts().plot.barh()"
   ]
  },
  {
   "cell_type": "code",
   "execution_count": 18,
   "metadata": {},
   "outputs": [
    {
     "data": {
      "text/plain": [
       "<matplotlib.axes._subplots.AxesSubplot at 0x7fa1e4222850>"
      ]
     },
     "execution_count": 18,
     "metadata": {},
     "output_type": "execute_result"
    },
    {
     "data": {
      "image/png": "[encoded data removed]",
      "text/plain": [
       "<Figure size 432x288 with 1 Axes>"
      ]
     },
     "metadata": {
      "needs_background": "light"
     },
     "output_type": "display_data"
    }
   ],
   "source": [
    "df.streaming_movies.value_counts().plot.barh()"
   ]
  },
  {
   "cell_type": "code",
   "execution_count": 19,
   "metadata": {
    "scrolled": false
   },
   "outputs": [
    {
     "data": {
      "text/plain": [
       "<matplotlib.axes._subplots.AxesSubplot at 0x7fa1e4437a50>"
      ]
     },
     "execution_count": 19,
     "metadata": {},
     "output_type": "execute_result"
    },
    {
     "data": {
      "image/png": "[encoded data removed]",
      "text/plain": [
       "<Figure size 432x288 with 1 Axes>"
      ]
     },
     "metadata": {
      "needs_background": "light"
     },
     "output_type": "display_data"
    }
   ],
   "source": [
    "df.paperless_billing.value_counts().plot.barh()"
   ]
  },
  {
   "cell_type": "code",
   "execution_count": 20,
   "metadata": {
    "scrolled": false
   },
   "outputs": [
    {
     "data": {
      "text/plain": [
       "<matplotlib.axes._subplots.AxesSubplot at 0x7fa1e451ddd0>"
      ]
     },
     "execution_count": 20,
     "metadata": {},
     "output_type": "execute_result"
    },
    {
     "data": {
      "image/png": "[encoded data removed]",
      "text/plain": [
       "<Figure size 432x288 with 1 Axes>"
      ]
     },
     "metadata": {
      "needs_background": "light"
     },
     "output_type": "display_data"
    }
   ],
   "source": [
    "df.monthly_charges.plot.hist()"
   ]
  },
  {
   "cell_type": "code",
   "execution_count": 21,
   "metadata": {},
   "outputs": [
    {
     "data": {
      "text/plain": [
       "<matplotlib.axes._subplots.AxesSubplot at 0x7fa1e44379d0>"
      ]
     },
     "execution_count": 21,
     "metadata": {},
     "output_type": "execute_result"
    },
    {
     "data": {
      "image/png": "[encoded data removed]",
      "text/plain": [
       "<Figure size 432x288 with 1 Axes>"
      ]
     },
     "metadata": {
      "needs_background": "light"
     },
     "output_type": "display_data"
    }
   ],
   "source": [
    "df.churn.value_counts().plot.barh()"
   ]
  },
  {
   "cell_type": "code",
   "execution_count": 22,
   "metadata": {
    "scrolled": false
   },
   "outputs": [
    {
     "data": {
      "text/plain": [
       "<matplotlib.axes._subplots.AxesSubplot at 0x7fa1e4755b90>"
      ]
     },
     "execution_count": 22,
     "metadata": {},
     "output_type": "execute_result"
    },
    {
     "data": {
      "image/png": "[encoded data removed]",
      "text/plain": [
       "<Figure size 432x288 with 1 Axes>"
      ]
     },
     "metadata": {
      "needs_background": "light"
     },
     "output_type": "display_data"
    }
   ],
   "source": [
    "df.contract_type.value_counts().plot.barh()"
   ]
  },
  {
   "cell_type": "code",
   "execution_count": 23,
   "metadata": {
    "scrolled": true
   },
   "outputs": [
    {
     "data": {
      "text/plain": [
       "<matplotlib.axes._subplots.AxesSubplot at 0x7fa1e494e250>"
      ]
     },
     "execution_count": 23,
     "metadata": {},
     "output_type": "execute_result"
    },
    {
     "data": {
      "image/png": "[encoded data removed]",
      "text/plain": [
       "<Figure size 432x288 with 1 Axes>"
      ]
     },
     "metadata": {
      "needs_background": "light"
     },
     "output_type": "display_data"
    }
   ],
   "source": [
    "df.internet_service_type.value_counts().plot(kind='barh', )"
   ]
  },
  {
   "cell_type": "code",
   "execution_count": 24,
   "metadata": {
    "scrolled": true
   },
   "outputs": [
    {
     "data": {
      "text/plain": [
       "<matplotlib.axes._subplots.AxesSubplot at 0x7fa1e4986110>"
      ]
     },
     "execution_count": 24,
     "metadata": {},
     "output_type": "execute_result"
    },
    {
     "data": {
      "image/png": "[encoded data removed]",
      "text/plain": [
       "<Figure size 432x288 with 1 Axes>"
      ]
     },
     "metadata": {
      "needs_background": "light"
     },
     "output_type": "display_data"
    }
   ],
   "source": [
    "df.payment_type.value_counts().plot.barh()"
   ]
  },
  {
   "cell_type": "markdown",
   "metadata": {},
   "source": [
    "### Data Preparation\n",
    "\n",
    "* Address missing data\n",
    "\n",
    "* Merge variables with similarit\n",
    "\n",
    "* Encode variable as needed\n",
    "\n",
    "* Drop object columns\n",
    "\n",
    "* Split data into train/validate/test"
   ]
  },
  {
   "cell_type": "code",
   "execution_count": 27,
   "metadata": {
    "scrolled": false
   },
   "outputs": [
    {
     "name": "stdout",
     "output_type": "stream",
     "text": [
      "<class 'pandas.core.frame.DataFrame'>\n",
      "Int64Index: 3943 entries, 5670 to 6867\n",
      "Data columns (total 18 columns):\n",
      " #   Column             Non-Null Count  Dtype  \n",
      "---  ------             --------------  -----  \n",
      " 0   customer_id        3943 non-null   object \n",
      " 1   senior_citizen     3943 non-null   int64  \n",
      " 2   tenure             3943 non-null   int64  \n",
      " 3   phone_service      3943 non-null   int64  \n",
      " 4   device_protection  3943 non-null   int64  \n",
      " 5   tech_support       3943 non-null   int64  \n",
      " 6   paperless_billing  3943 non-null   int64  \n",
      " 7   monthly_charges    3943 non-null   float64\n",
      " 8   total_charges      3943 non-null   object \n",
      " 9   churn              3943 non-null   int64  \n",
      " 10  contract_type      3943 non-null   int64  \n",
      " 11  internet_service   3943 non-null   int64  \n",
      " 12  payment_type       3943 non-null   int64  \n",
      " 13  partner_dependent  3943 non-null   int64  \n",
      " 14  streaming          3943 non-null   int64  \n",
      " 15  online_service     3943 non-null   int64  \n",
      " 16  tenure_year        3943 non-null   float64\n",
      " 17  male               3943 non-null   uint8  \n",
      "dtypes: float64(2), int64(13), object(2), uint8(1)\n",
      "memory usage: 558.3+ KB\n"
     ]
    }
   ],
   "source": [
    "train.info()"
   ]
  },
  {
   "cell_type": "code",
   "execution_count": 28,
   "metadata": {
    "scrolled": true
   },
   "outputs": [
    {
     "data": {
      "text/plain": [
       "customer_id          3943\n",
       "senior_citizen          2\n",
       "tenure                 73\n",
       "phone_service           2\n",
       "device_protection       2\n",
       "tech_support            2\n",
       "paperless_billing       2\n",
       "monthly_charges      1321\n",
       "total_charges        3756\n",
       "churn                   2\n",
       "contract_type           3\n",
       "internet_service        2\n",
       "payment_type            2\n",
       "partner_dependent       2\n",
       "streaming               2\n",
       "online_service          2\n",
       "tenure_year            61\n",
       "male                    2\n",
       "dtype: int64"
      ]
     },
     "execution_count": 28,
     "metadata": {},
     "output_type": "execute_result"
    }
   ],
   "source": [
    "train.nunique()"
   ]
  },
  {
   "cell_type": "code",
   "execution_count": 25,
   "metadata": {},
   "outputs": [
    {
     "data": {
      "text/html": [
       "<div>\n",
       "<style scoped>\n",
       "    .dataframe tbody tr th:only-of-type {\n",
       "        vertical-align: middle;\n",
       "    }\n",
       "\n",
       "    .dataframe tbody tr th {\n",
       "        vertical-align: top;\n",
       "    }\n",
       "\n",
       "    .dataframe thead th {\n",
       "        text-align: right;\n",
       "    }\n",
       "</style>\n",
       "<table border=\"1\" class=\"dataframe\">\n",
       "  <thead>\n",
       "    <tr style=\"text-align: right;\">\n",
       "      <th></th>\n",
       "      <th>customer_id</th>\n",
       "      <th>senior_citizen</th>\n",
       "      <th>tenure</th>\n",
       "      <th>phone_service</th>\n",
       "      <th>device_protection</th>\n",
       "      <th>tech_support</th>\n",
       "      <th>paperless_billing</th>\n",
       "      <th>monthly_charges</th>\n",
       "      <th>total_charges</th>\n",
       "      <th>churn</th>\n",
       "      <th>contract_type</th>\n",
       "      <th>internet_service</th>\n",
       "      <th>payment_type</th>\n",
       "      <th>partner_dependent</th>\n",
       "      <th>streaming</th>\n",
       "      <th>online_service</th>\n",
       "      <th>tenure_year</th>\n",
       "      <th>male</th>\n",
       "    </tr>\n",
       "  </thead>\n",
       "  <tbody>\n",
       "    <tr>\n",
       "      <th>5670</th>\n",
       "      <td>2739-CCZMB</td>\n",
       "      <td>0</td>\n",
       "      <td>5</td>\n",
       "      <td>1</td>\n",
       "      <td>0</td>\n",
       "      <td>0</td>\n",
       "      <td>0</td>\n",
       "      <td>20.35</td>\n",
       "      <td>122</td>\n",
       "      <td>0</td>\n",
       "      <td>0</td>\n",
       "      <td>0</td>\n",
       "      <td>1</td>\n",
       "      <td>1</td>\n",
       "      <td>0</td>\n",
       "      <td>0</td>\n",
       "      <td>0.4</td>\n",
       "      <td>1</td>\n",
       "    </tr>\n",
       "    <tr>\n",
       "      <th>4152</th>\n",
       "      <td>8035-PWSEV</td>\n",
       "      <td>0</td>\n",
       "      <td>6</td>\n",
       "      <td>1</td>\n",
       "      <td>1</td>\n",
       "      <td>1</td>\n",
       "      <td>1</td>\n",
       "      <td>89.25</td>\n",
       "      <td>487.05</td>\n",
       "      <td>0</td>\n",
       "      <td>0</td>\n",
       "      <td>1</td>\n",
       "      <td>0</td>\n",
       "      <td>0</td>\n",
       "      <td>1</td>\n",
       "      <td>0</td>\n",
       "      <td>0.5</td>\n",
       "      <td>0</td>\n",
       "    </tr>\n",
       "    <tr>\n",
       "      <th>4890</th>\n",
       "      <td>6250-CGGUN</td>\n",
       "      <td>0</td>\n",
       "      <td>54</td>\n",
       "      <td>1</td>\n",
       "      <td>1</td>\n",
       "      <td>1</td>\n",
       "      <td>0</td>\n",
       "      <td>84.40</td>\n",
       "      <td>4484.05</td>\n",
       "      <td>0</td>\n",
       "      <td>1</td>\n",
       "      <td>1</td>\n",
       "      <td>0</td>\n",
       "      <td>0</td>\n",
       "      <td>0</td>\n",
       "      <td>1</td>\n",
       "      <td>4.5</td>\n",
       "      <td>1</td>\n",
       "    </tr>\n",
       "    <tr>\n",
       "      <th>2391</th>\n",
       "      <td>9499-XPZXM</td>\n",
       "      <td>0</td>\n",
       "      <td>72</td>\n",
       "      <td>1</td>\n",
       "      <td>0</td>\n",
       "      <td>1</td>\n",
       "      <td>0</td>\n",
       "      <td>64.75</td>\n",
       "      <td>4804.75</td>\n",
       "      <td>0</td>\n",
       "      <td>2</td>\n",
       "      <td>1</td>\n",
       "      <td>1</td>\n",
       "      <td>1</td>\n",
       "      <td>0</td>\n",
       "      <td>1</td>\n",
       "      <td>6.0</td>\n",
       "      <td>0</td>\n",
       "    </tr>\n",
       "    <tr>\n",
       "      <th>2896</th>\n",
       "      <td>2305-MRGLV</td>\n",
       "      <td>0</td>\n",
       "      <td>28</td>\n",
       "      <td>1</td>\n",
       "      <td>0</td>\n",
       "      <td>1</td>\n",
       "      <td>0</td>\n",
       "      <td>76.55</td>\n",
       "      <td>2065.4</td>\n",
       "      <td>0</td>\n",
       "      <td>0</td>\n",
       "      <td>1</td>\n",
       "      <td>1</td>\n",
       "      <td>1</td>\n",
       "      <td>0</td>\n",
       "      <td>0</td>\n",
       "      <td>2.3</td>\n",
       "      <td>1</td>\n",
       "    </tr>\n",
       "  </tbody>\n",
       "</table>\n",
       "</div>"
      ],
      "text/plain": [
       "     customer_id  senior_citizen  tenure  phone_service  device_protection  \\\n",
       "5670  2739-CCZMB               0       5              1                  0   \n",
       "4152  8035-PWSEV               0       6              1                  1   \n",
       "4890  6250-CGGUN               0      54              1                  1   \n",
       "2391  9499-XPZXM               0      72              1                  0   \n",
       "2896  2305-MRGLV               0      28              1                  0   \n",
       "\n",
       "      tech_support  paperless_billing  monthly_charges total_charges  churn  \\\n",
       "5670             0                  0            20.35           122      0   \n",
       "4152             1                  1            89.25        487.05      0   \n",
       "4890             1                  0            84.40       4484.05      0   \n",
       "2391             1                  0            64.75       4804.75      0   \n",
       "2896             1                  0            76.55        2065.4      0   \n",
       "\n",
       "      contract_type  internet_service  payment_type  partner_dependent  \\\n",
       "5670              0                 0             1                  1   \n",
       "4152              0                 1             0                  0   \n",
       "4890              1                 1             0                  0   \n",
       "2391              2                 1             1                  1   \n",
       "2896              0                 1             1                  1   \n",
       "\n",
       "      streaming  online_service  tenure_year  male  \n",
       "5670          0               0          0.4     1  \n",
       "4152          1               0          0.5     0  \n",
       "4890          0               1          4.5     1  \n",
       "2391          0               1          6.0     0  \n",
       "2896          0               0          2.3     1  "
      ]
     },
     "execution_count": 25,
     "metadata": {},
     "output_type": "execute_result"
    }
   ],
   "source": [
    "train, validate, test = prepare.prep_telco_churn(df)\n",
    "train.head()"
   ]
  },
  {
   "cell_type": "code",
   "execution_count": 26,
   "metadata": {},
   "outputs": [
    {
     "data": {
      "text/plain": [
       "((3943, 18), (1691, 18), (1409, 18))"
      ]
     },
     "execution_count": 26,
     "metadata": {},
     "output_type": "execute_result"
    }
   ],
   "source": [
    "train.shape, validate.shape, test.shape"
   ]
  },
  {
   "cell_type": "markdown",
   "metadata": {},
   "source": [
    "### Data Exploration\n",
    "* Explore target variable:\n",
    "    * Compute overall churn rate\n",
    "    * Barplot target variable\n",
    "* Explore `churn`'s interactions with the categorical variables by treating it as a number \n",
    "    * Demographic: senior_citizen, parnter_dependent and Male\n",
    "    * Services: multiple_lines, device_protection, tech_support, internet_service_type, streaming, and online_service\n",
    "    * Payment methods: paperless_billing and payment_type\n",
    "    * Contract: contract_type\n",
    "* Explore `churn`'s interaction with the numeric variables\n",
    "    * tenure\n",
    "    * monthly_tenure\n",
    "* Test hypothesis"
   ]
  },
  {
   "cell_type": "code",
   "execution_count": 29,
   "metadata": {},
   "outputs": [
    {
     "data": {
      "text/plain": [
       "Text(0.5, 0, 'Churned')"
      ]
     },
     "execution_count": 29,
     "metadata": {},
     "output_type": "execute_result"
    },
    {
     "data": {
      "image/png": "[encoded data removed]",
      "text/plain": [
       "<Figure size 432x288 with 1 Axes>"
      ]
     },
     "metadata": {
      "needs_background": "light"
     },
     "output_type": "display_data"
    }
   ],
   "source": [
    "train.churn.value_counts().plot.bar()\n",
    "churn_rate = train.churn.mean()\n",
    "plt.title(f\"Overall churn rate: {churn_rate: .2%}\")\n",
    "plt.xlabel('Churned')"
   ]
  },
  {
   "cell_type": "code",
   "execution_count": 30,
   "metadata": {},
   "outputs": [
    {
     "data": {
      "text/plain": [
       "['customer_id',\n",
       " 'senior_citizen',\n",
       " 'tenure',\n",
       " 'phone_service',\n",
       " 'device_protection',\n",
       " 'tech_support',\n",
       " 'paperless_billing',\n",
       " 'monthly_charges',\n",
       " 'total_charges',\n",
       " 'churn',\n",
       " 'contract_type',\n",
       " 'internet_service',\n",
       " 'payment_type',\n",
       " 'partner_dependent',\n",
       " 'streaming',\n",
       " 'online_service',\n",
       " 'tenure_year',\n",
       " 'male']"
      ]
     },
     "execution_count": 30,
     "metadata": {},
     "output_type": "execute_result"
    }
   ],
   "source": [
    "train.columns.tolist()"
   ]
  },
  {
   "cell_type": "code",
   "execution_count": 31,
   "metadata": {
    "scrolled": false
   },
   "outputs": [
    {
     "data": {
      "image/png": "[encoded data removed]",
      "text/plain": [
       "<Figure size 1008x360 with 3 Axes>"
      ]
     },
     "metadata": {
      "needs_background": "light"
     },
     "output_type": "display_data"
    }
   ],
   "source": [
    "features_1 = ['senior_citizen', 'partner_dependent', 'male']\n",
    "\n",
    "n_features = len(features_1)\n",
    "\n",
    "fig, axs = plt.subplots(1, n_features, figsize=(14,5),sharey=True)\n",
    "\n",
    "for i, feature in enumerate(features_1):\n",
    "    train.groupby(feature).churn.mean().plot.bar(ax=axs[i])\n",
    "    axs[i].set(title=feature)\n",
    "    axs[i].hlines(churn_rate, *axs[i].get_xlim(), ls='--')"
   ]
  },
  {
   "cell_type": "markdown",
   "metadata": {},
   "source": [
    "### Are  non-senior customers more loyal than senior customers?\n",
    "$H_0$: There is no significant difference in loyalty between non-senior customers and senior customers.<br>\n",
    "$H_a$: There is significant difference in loyalty between non-senior customers and senior customers.<br>\n",
    "$\\alpha$=0.05"
   ]
  },
  {
   "cell_type": "code",
   "execution_count": 32,
   "metadata": {},
   "outputs": [
    {
     "name": "stdout",
     "output_type": "stream",
     "text": [
      "Reject Null Hypotheis, because  1.8e-14 < 0.25\n"
     ]
    }
   ],
   "source": [
    "contigency_table = pd.crosstab(train.churn, train.senior_citizen)\n",
    "chi2, p, degf, expected = stats.chi2_contingency(contigency_table)\n",
    "if p/2 < 0.25:\n",
    "    print(f'Reject Null Hypotheis, because {p/2: .2} < 0.25')\n",
    "elif p/2 > 0.25:\n",
    "    print(f'Accept Null Hypotheis, because {p/2: .2} > 0.25')"
   ]
  },
  {
   "cell_type": "markdown",
   "metadata": {},
   "source": [
    "### Are male customers more loyal than female customers?\n",
    "$H_0$: There is no significant difference in loyalty between male customers and female customers.<br>\n",
    "$H_a$: There is significant difference in loyalty between male customers and female customers.<br>\n",
    "$\\alpha$=0.05"
   ]
  },
  {
   "cell_type": "code",
   "execution_count": 33,
   "metadata": {},
   "outputs": [
    {
     "name": "stdout",
     "output_type": "stream",
     "text": [
      "Accept Null Hypotheis, because  0.35 > 0.25\n"
     ]
    }
   ],
   "source": [
    "contigency_table = pd.crosstab(train.churn, train.male)\n",
    "chi2, p, degf, expected = stats.chi2_contingency(contigency_table)\n",
    "if p/2 < 0.25:\n",
    "    print(f'Reject Null Hypotheis, because {p/2: .2} < 0.25')\n",
    "elif p/2 > 0.25:\n",
    "    print(f'Accept Null Hypotheis, because {p/2: .2} > 0.25')"
   ]
  },
  {
   "cell_type": "markdown",
   "metadata": {},
   "source": [
    "### Are cutomers with partners or/and dependents more loyal than customers without?\n",
    "\n",
    "$H_0$: There is no significant difference in loyalty between customers with partner or/and dependent and customers without.<br>\n",
    "$H_a$: There is significant difference in loyalty between customers with partner or/and dependent and customers without.<br>\n",
    "$\\alpha$=0.05"
   ]
  },
  {
   "cell_type": "code",
   "execution_count": 34,
   "metadata": {},
   "outputs": [
    {
     "name": "stdout",
     "output_type": "stream",
     "text": [
      "Reject Null Hypotheis, because  1.3e-23 < 0.25\n"
     ]
    }
   ],
   "source": [
    "contigency_table = pd.crosstab(train.churn, train.partner_dependent)\n",
    "chi2, p, degf, expected = stats.chi2_contingency(contigency_table)\n",
    "if p/2 < 0.25:\n",
    "    print(f'Reject Null Hypotheis, because {p/2: .2} < 0.25')\n",
    "elif p/2 > 0.25:\n",
    "    print(f'Accept Null Hypotheis, because {p/2: .2} > 0.25')"
   ]
  },
  {
   "cell_type": "code",
   "execution_count": 36,
   "metadata": {},
   "outputs": [
    {
     "data": {
      "image/png": "[encoded data removed]",
      "text/plain": [
       "<Figure size 1152x360 with 6 Axes>"
      ]
     },
     "metadata": {
      "needs_background": "light"
     },
     "output_type": "display_data"
    }
   ],
   "source": [
    "features_2 = ['phone_service', 'device_protection', 'tech_support', \n",
    "              'internet_service', 'streaming', 'online_service']\n",
    "\n",
    "n_features = len(features_2)\n",
    "\n",
    "fig, axs = plt.subplots(1, n_features, figsize=(16,5),sharey=True)\n",
    "\n",
    "for i, feature in enumerate(features_2):\n",
    "    train.groupby(feature).churn.mean().plot.bar(ax=axs[i])\n",
    "    axs[i].set(title=feature)\n",
    "    axs[i].hlines(churn_rate, *axs[i].get_xlim(), ls='--')"
   ]
  },
  {
   "cell_type": "markdown",
   "metadata": {},
   "source": [
    "### Are cutomers with mulitple lines more loyal than customers without?\n",
    "\n",
    "$H_0$: There is no significant difference in loyalty between customers with multiple lines and customers without.<br>\n",
    "$H_a$: There is significant difference in loyalty between customers with multiple lines and customers without.<br>\n",
    "$\\alpha$=0.05"
   ]
  },
  {
   "cell_type": "code",
   "execution_count": 38,
   "metadata": {},
   "outputs": [
    {
     "name": "stdout",
     "output_type": "stream",
     "text": [
      "Accept Null Hypotheis, because  0.69 > 0.5\n"
     ]
    }
   ],
   "source": [
    "contigency_table = pd.crosstab(train.churn, train.phone_service)\n",
    "chi2, p, degf, expected = stats.chi2_contingency(contigency_table)\n",
    "if p < 0.5:\n",
    "    print(f'Reject Null Hypotheis, because {p: .2} < 0.5')\n",
    "elif p > 0.5:\n",
    "    print(f'Accept Null Hypotheis, because {p: .2} > 0.5')"
   ]
  },
  {
   "cell_type": "markdown",
   "metadata": {},
   "source": [
    "### Are cutomers with device protection more loyal than customers without?\n",
    "\n",
    "$H_0$: There is no significant difference in loyalty between customers with device protection and customers without.<br>\n",
    "$H_a$: There is significant difference in loyalty between customers with device protection and customers without.<br>\n",
    "$\\alpha$=0.05"
   ]
  },
  {
   "cell_type": "code",
   "execution_count": 39,
   "metadata": {},
   "outputs": [
    {
     "name": "stdout",
     "output_type": "stream",
     "text": [
      "Reject Null Hypotheis, because  2.6e-05 < 0.25\n"
     ]
    }
   ],
   "source": [
    "contigency_table = pd.crosstab(train.churn, train.device_protection)\n",
    "chi2, p, degf, expected = stats.chi2_contingency(contigency_table)\n",
    "if p/2 < 0.25:\n",
    "    print(f'Reject Null Hypotheis, because {p/2: .2} < 0.25')\n",
    "elif p/2 > 0.25:\n",
    "    print(f'Accept Null Hypotheis, because {p/2: .2} > 0.25')"
   ]
  },
  {
   "cell_type": "markdown",
   "metadata": {},
   "source": [
    "### Are cutomers with tech support more loyal than customers without?\n",
    "\n",
    "$H_0$: There is no significant difference in loyalty between customers with tech support and customers without.<br>\n",
    "$H_a$: There is significant difference in loyalty between customers with tech support and customers without.<br>\n",
    "$\\alpha$=0.05"
   ]
  },
  {
   "cell_type": "code",
   "execution_count": 40,
   "metadata": {},
   "outputs": [
    {
     "name": "stdout",
     "output_type": "stream",
     "text": [
      "Reject Null Hypotheis, because  2.3e-26 < 0.25\n"
     ]
    }
   ],
   "source": [
    "contigency_table = pd.crosstab(train.churn, train.tech_support)\n",
    "chi2, p, degf, expected = stats.chi2_contingency(contigency_table)\n",
    "if p/2 < 0.25:\n",
    "    print(f'Reject Null Hypotheis, because {p/2: .2} < 0.25')\n",
    "elif p/2 > 0.25:\n",
    "    print(f'Accept Null Hypotheis, because {p/2: .2} > 0.25')"
   ]
  },
  {
   "cell_type": "markdown",
   "metadata": {},
   "source": [
    "### Are cutomers with internet service more loyal than customers without?\n",
    "\n",
    "$H_0$: There is no significant difference in loyalty between customers with internet service and customers without.<br>\n",
    "$H_a$: There is significant difference in loyalty between customers with internet service and customers without.<br>\n",
    "$\\alpha$=0.05"
   ]
  },
  {
   "cell_type": "code",
   "execution_count": 41,
   "metadata": {},
   "outputs": [
    {
     "name": "stdout",
     "output_type": "stream",
     "text": [
      "Reject Null Hypotheis, because  7.5e-45 < 0.25\n"
     ]
    }
   ],
   "source": [
    "contigency_table = pd.crosstab(train.churn, train.internet_service)\n",
    "chi2, p, degf, expected = stats.chi2_contingency(contigency_table)\n",
    "if p/2 < 0.25:\n",
    "    print(f'Reject Null Hypotheis, because {p/2: .2} < 0.25')\n",
    "elif p/2 > 0.25:\n",
    "    print(f'Accept Null Hypotheis, because {p/2: .2} > 0.25')"
   ]
  },
  {
   "cell_type": "markdown",
   "metadata": {},
   "source": [
    "### Are cutomers with streaming service more loyal than customers without?\n",
    "\n",
    "$H_0$: There is no significant difference in loyalty between customers with streaming service and customers without.<br>\n",
    "$H_a$: There is significant difference in loyalty between customers with streaming service and customers without.<br>\n",
    "$\\alpha$=0.05"
   ]
  },
  {
   "cell_type": "code",
   "execution_count": 42,
   "metadata": {},
   "outputs": [
    {
     "name": "stdout",
     "output_type": "stream",
     "text": [
      "Reject Null Hypotheis, because  8.2e-06 < 0.25\n"
     ]
    }
   ],
   "source": [
    "contigency_table = pd.crosstab(train.churn, train.streaming)\n",
    "chi2, p, degf, expected = stats.chi2_contingency(contigency_table)\n",
    "if p/2 < 0.25:\n",
    "    print(f'Reject Null Hypotheis, because {p/2: .2} < 0.25')\n",
    "elif p/2 > 0.25:\n",
    "    print(f'Accept Null Hypotheis, because {p/2: .2} > 0.25')"
   ]
  },
  {
   "cell_type": "markdown",
   "metadata": {},
   "source": [
    "### Are cutomers with online security and back up more loyal than customers without?\n",
    "\n",
    "$H_0$: There is no significant difference in loyalty between customers with online security and back up and customers without.<br>\n",
    "$H_a$: There is significant difference in loyalty between customers with online security and back up and customers without.<br>\n",
    "$\\alpha$=0.05"
   ]
  },
  {
   "cell_type": "code",
   "execution_count": 43,
   "metadata": {},
   "outputs": [
    {
     "name": "stdout",
     "output_type": "stream",
     "text": [
      "Reject Null Hypotheis, because  1.4e-10 < 0.25\n"
     ]
    }
   ],
   "source": [
    "contigency_table = pd.crosstab(train.churn, train.online_service)\n",
    "chi2, p, degf, expected = stats.chi2_contingency(contigency_table)\n",
    "if p/2 < 0.25:\n",
    "    print(f'Reject Null Hypotheis, because {p/2: .2} < 0.25')\n",
    "elif p/2 > 0.25:\n",
    "    print(f'Accept Null Hypotheis, because {p/2: .2} > 0.25')"
   ]
  },
  {
   "cell_type": "code",
   "execution_count": 44,
   "metadata": {},
   "outputs": [
    {
     "data": {
      "image/png": "[encoded data removed]",
      "text/plain": [
       "<Figure size 720x360 with 2 Axes>"
      ]
     },
     "metadata": {
      "needs_background": "light"
     },
     "output_type": "display_data"
    }
   ],
   "source": [
    "features_3 = ['paperless_billing', 'payment_type']\n",
    "\n",
    "n_features = len(features_3)\n",
    "\n",
    "fig, axs = plt.subplots(1, n_features, figsize=(10,5),sharey=True)\n",
    "\n",
    "for i, feature in enumerate(features_3):\n",
    "    train.groupby(feature).churn.mean().plot.bar(ax=axs[i])\n",
    "    axs[i].set(title=feature)\n",
    "    axs[i].hlines(churn_rate, *axs[i].get_xlim(), ls='--')"
   ]
  },
  {
   "cell_type": "markdown",
   "metadata": {},
   "source": [
    "### Are customers receiving paperless billing less loyal than the ones who don't?\n",
    "\n",
    "$H_0$: There is no significant difference in loyalty between customers receiving paperless billing and customers who don't.<br>\n",
    "$H_a$: There is significant difference in loyalty between customers receiving paperless billing and customers who don't.<br>\n",
    "$\\alpha$=0.05"
   ]
  },
  {
   "cell_type": "code",
   "execution_count": 45,
   "metadata": {},
   "outputs": [
    {
     "name": "stdout",
     "output_type": "stream",
     "text": [
      "Reject Null Hypotheis, because p = 2.4e-32 < 0.5\n"
     ]
    }
   ],
   "source": [
    "contigency_table = pd.crosstab(train.churn, train.paperless_billing)\n",
    "chi2, p, degf, expected = stats.chi2_contingency(contigency_table)\n",
    "if p/2 < 0.25:\n",
    "    print(f'Reject Null Hypotheis, because p = {p:.2} < 0.5')\n",
    "elif p/2 > 0.25:\n",
    "    print(f'Accept Null Hypotheis, because p = {p:.2} > 0.5')"
   ]
  },
  {
   "cell_type": "markdown",
   "metadata": {},
   "source": [
    "### Are customers who pay automatically more loyal than the ones who don't?\n",
    "\n",
    "$H_0$: There is no significant difference in loyalty between customers who pay automatically and customers who don't.<br>\n",
    "$H_a$: There is a significant difference in loyalty between customers who pay automatically and customers who don't.<br>\n",
    "$\\alpha$=0.05"
   ]
  },
  {
   "cell_type": "code",
   "execution_count": 46,
   "metadata": {},
   "outputs": [
    {
     "name": "stdout",
     "output_type": "stream",
     "text": [
      "Reject Null Hypotheis, because  1.3e-32 < 0.5\n"
     ]
    }
   ],
   "source": [
    "contigency_table = pd.crosstab(train.churn, train.payment_type)\n",
    "chi2, p, degf, expected = stats.chi2_contingency(contigency_table)\n",
    "if p/2 < 0.25:\n",
    "    print(f'Reject Null Hypotheis, because {p/2: .2} < 0.5')\n",
    "elif p/2 > 0.25:\n",
    "    print(f'Accept Null Hypotheis, because {p/2: .2} > 0.5')"
   ]
  },
  {
   "cell_type": "code",
   "execution_count": 47,
   "metadata": {},
   "outputs": [
    {
     "data": {
      "text/plain": [
       "<matplotlib.collections.LineCollection at 0x7fa1e5ff6290>"
      ]
     },
     "execution_count": 47,
     "metadata": {},
     "output_type": "execute_result"
    },
    {
     "data": {
      "image/png": "[encoded data removed]",
      "text/plain": [
       "<Figure size 432x288 with 1 Axes>"
      ]
     },
     "metadata": {
      "needs_background": "light"
     },
     "output_type": "display_data"
    }
   ],
   "source": [
    "train.groupby('contract_type').churn.mean().plot.bar()\n",
    "plt.title(\"contract_type\")\n",
    "plt.hlines(churn_rate, *plt.xlim(), ls='--')"
   ]
  },
  {
   "cell_type": "markdown",
   "metadata": {},
   "source": [
    "### Is there a significant difference in loyalty among the customers with different contracts?\n",
    "\n",
    "$H_0$: There is no significant difference in loyalty among the customers with different contracts.<br>\n",
    "$H_a$: There is a significant difference in loyalty among the customers with different contracts.<br>\n",
    "$\\alpha$=0.05"
   ]
  },
  {
   "cell_type": "code",
   "execution_count": 48,
   "metadata": {},
   "outputs": [
    {
     "name": "stdout",
     "output_type": "stream",
     "text": [
      "Reject Null Hypotheis, because  6.7e-138 < 0.5\n"
     ]
    }
   ],
   "source": [
    "contigency_table = pd.crosstab(train.churn, train.contract_type)\n",
    "chi2, p, degf, expected = stats.chi2_contingency(contigency_table)\n",
    "if p/2 < 0.25:\n",
    "    print(f'Reject Null Hypotheis, because {p/2: .2} < 0.5')\n",
    "elif p/2 > 0.25:\n",
    "    print(f'Accept Null Hypotheis, because {p/2: .2} > 0.5')"
   ]
  },
  {
   "cell_type": "code",
   "execution_count": 49,
   "metadata": {},
   "outputs": [
    {
     "data": {
      "text/plain": [
       "<matplotlib.axes._subplots.AxesSubplot at 0x7fa1e5fa5e90>"
      ]
     },
     "execution_count": 49,
     "metadata": {},
     "output_type": "execute_result"
    },
    {
     "data": {
      "image/png": "[encoded data removed]",
      "text/plain": [
       "<Figure size 864x432 with 2 Axes>"
      ]
     },
     "metadata": {
      "needs_background": "light"
     },
     "output_type": "display_data"
    }
   ],
   "source": [
    "boolean_churned = train.churn == 1\n",
    "boolean_current = train.churn == 0\n",
    "\n",
    "monthly_charges_churned = train[boolean_churned].monthly_charges\n",
    "monthly_charges_current = train[boolean_current].monthly_charges\n",
    "\n",
    "plt.figure(figsize=(12,6))\n",
    "plt.subplot(121)\n",
    "\n",
    "sns.distplot(monthly_charges_churned, label='churned')\n",
    "sns.distplot(monthly_charges_current, label='current')\n",
    "plt.legend()\n",
    "\n",
    "plt.subplot(122)\n",
    "\n",
    "sns.boxplot(data=train, x='churn', y='monthly_charges')"
   ]
  },
  {
   "cell_type": "code",
   "execution_count": 50,
   "metadata": {
    "scrolled": false
   },
   "outputs": [
    {
     "data": {
      "text/plain": [
       "<matplotlib.axes._subplots.AxesSubplot at 0x7fa1e61f2cd0>"
      ]
     },
     "execution_count": 50,
     "metadata": {},
     "output_type": "execute_result"
    },
    {
     "data": {
      "image/png": "[encoded data removed]",
      "text/plain": [
       "<Figure size 864x432 with 2 Axes>"
      ]
     },
     "metadata": {
      "needs_background": "light"
     },
     "output_type": "display_data"
    }
   ],
   "source": [
    "plt.figure(figsize=(12,6))\n",
    "\n",
    "tenure_churned = train[boolean_churned].tenure\n",
    "tenure_current = train[boolean_current].tenure\n",
    "\n",
    "plt.subplot(121)\n",
    "\n",
    "sns.distplot(tenure_churned, label='churned')\n",
    "sns.distplot(tenure_current, label='current')\n",
    "plt.legend()\n",
    "\n",
    "plt.subplot(122)\n",
    "\n",
    "sns.boxplot(data=train, x='churn', y='tenure')"
   ]
  },
  {
   "cell_type": "markdown",
   "metadata": {},
   "source": [
    "### Is there a difference in monthly charges between the churned and the current? \n",
    "$H_0$: The monthly bill of churned customers is no difference than that of customers still in business.<br>\n",
    "$H_a$: The monthly bill of churned customers is significantly higher than that of customers still in business.<br>\n",
    "$\\alpha$=0.05"
   ]
  },
  {
   "cell_type": "code",
   "execution_count": 52,
   "metadata": {},
   "outputs": [
    {
     "data": {
      "text/plain": [
       "(616.2156527944226, 954.200647414355)"
      ]
     },
     "execution_count": 52,
     "metadata": {},
     "output_type": "execute_result"
    }
   ],
   "source": [
    "train[boolean_churned].monthly_charges.var(), train[boolean_current].monthly_charges.var()"
   ]
  },
  {
   "cell_type": "code",
   "execution_count": 53,
   "metadata": {
    "scrolled": true
   },
   "outputs": [
    {
     "data": {
      "text/plain": [
       "(13.410598855013827, 1.5774458815892836e-39)"
      ]
     },
     "execution_count": 53,
     "metadata": {},
     "output_type": "execute_result"
    }
   ],
   "source": [
    "t, p = stats.ttest_ind(monthly_charges_churned, monthly_charges_current, equal_var=False)\n",
    "t, p"
   ]
  },
  {
   "cell_type": "code",
   "execution_count": 54,
   "metadata": {
    "scrolled": true
   },
   "outputs": [
    {
     "name": "stdout",
     "output_type": "stream",
     "text": [
      "Reject Null Hypotheis\n"
     ]
    }
   ],
   "source": [
    "if t > 0 and p < 0.5:\n",
    "    print('Reject Null Hypotheis')\n",
    "else:\n",
    "    print('Accept Null Hypotheis')"
   ]
  },
  {
   "cell_type": "markdown",
   "metadata": {},
   "source": [
    "### Is there a difference in tenure between the churned and the current? \n",
    "$H_0$: There is no difference in tenure between the churned and the current.<br>\n",
    "$H_a$: There is sigficantly difference in tenure between the churned and the current. <br>\n",
    "$\\alpha$=0.05"
   ]
  },
  {
   "cell_type": "code",
   "execution_count": 111,
   "metadata": {
    "scrolled": true
   },
   "outputs": [
    {
     "data": {
      "text/plain": [
       "(386.0177591554043, 574.2094851408535)"
      ]
     },
     "execution_count": 111,
     "metadata": {},
     "output_type": "execute_result"
    }
   ],
   "source": [
    "train[boolean_churned].tenure.var(), train[boolean_current].tenure.var()"
   ]
  },
  {
   "cell_type": "code",
   "execution_count": 113,
   "metadata": {
    "scrolled": true
   },
   "outputs": [
    {
     "data": {
      "text/plain": [
       "(-25.07159031561559, 1.8584435621836072e-122)"
      ]
     },
     "execution_count": 113,
     "metadata": {},
     "output_type": "execute_result"
    }
   ],
   "source": [
    "t, p = stats.ttest_ind(tenure_churned, tenure_current, equal_var=False)\n",
    "t, p"
   ]
  },
  {
   "cell_type": "code",
   "execution_count": 114,
   "metadata": {
    "scrolled": true
   },
   "outputs": [
    {
     "name": "stdout",
     "output_type": "stream",
     "text": [
      "Accept Null Hypotheis\n"
     ]
    }
   ],
   "source": [
    "if t > 0 and p < 0.5:\n",
    "    print('Reject Null Hypotheis')\n",
    "else:\n",
    "    print('Accept Null Hypotheis')"
   ]
  },
  {
   "cell_type": "markdown",
   "metadata": {},
   "source": [
    "**14 Features has significant impact**\n",
    "- male\n",
    "- senior_citizen\n",
    "- partner_dependent\n",
    "- phone_service\n",
    "- internect_service\n",
    "- streaming\n",
    "- online_service\n",
    "- device_protection\n",
    "- tech_support\n",
    "- paperless_billing\n",
    "- payment_type\n",
    "- contract_type\n",
    "- tenure\n",
    "- monthly_charge"
   ]
  },
  {
   "cell_type": "markdown",
   "metadata": {},
   "source": [
    "Then I took the coefficients from logistic regression and rank them by the absolute value of coefficients\n",
    "\n",
    "**Biggest 5**\n",
    "- contract_type\n",
    "- internet_service\n",
    "- online_service\n",
    "- tech_support\n",
    "- senior_citizen\n",
    "\n",
    "\n"
   ]
  },
  {
   "cell_type": "markdown",
   "metadata": {},
   "source": [
    "## Modeling and Evaluation\n",
    "### Baseline Accuracy: 0.734"
   ]
  },
  {
   "cell_type": "code",
   "execution_count": 55,
   "metadata": {},
   "outputs": [
    {
     "data": {
      "text/plain": [
       "0    0.73472\n",
       "1    0.26528\n",
       "Name: churn, dtype: float64"
      ]
     },
     "execution_count": 55,
     "metadata": {},
     "output_type": "execute_result"
    }
   ],
   "source": [
    "train.churn.value_counts(normalize=True)"
   ]
  },
  {
   "cell_type": "markdown",
   "metadata": {},
   "source": [
    "### Model 1: Logistic Regression\n",
    "* X\n",
    "* y"
   ]
  },
  {
   "cell_type": "code",
   "execution_count": 56,
   "metadata": {},
   "outputs": [
    {
     "data": {
      "text/html": [
       "<div>\n",
       "<style scoped>\n",
       "    .dataframe tbody tr th:only-of-type {\n",
       "        vertical-align: middle;\n",
       "    }\n",
       "\n",
       "    .dataframe tbody tr th {\n",
       "        vertical-align: top;\n",
       "    }\n",
       "\n",
       "    .dataframe thead th {\n",
       "        text-align: right;\n",
       "    }\n",
       "</style>\n",
       "<table border=\"1\" class=\"dataframe\">\n",
       "  <thead>\n",
       "    <tr style=\"text-align: right;\">\n",
       "      <th></th>\n",
       "      <th>customer_id</th>\n",
       "      <th>senior_citizen</th>\n",
       "      <th>tenure</th>\n",
       "      <th>phone_service</th>\n",
       "      <th>device_protection</th>\n",
       "      <th>tech_support</th>\n",
       "      <th>paperless_billing</th>\n",
       "      <th>monthly_charges</th>\n",
       "      <th>total_charges</th>\n",
       "      <th>churn</th>\n",
       "      <th>contract_type</th>\n",
       "      <th>internet_service</th>\n",
       "      <th>payment_type</th>\n",
       "      <th>partner_dependent</th>\n",
       "      <th>streaming</th>\n",
       "      <th>online_service</th>\n",
       "      <th>tenure_year</th>\n",
       "      <th>male</th>\n",
       "    </tr>\n",
       "  </thead>\n",
       "  <tbody>\n",
       "    <tr>\n",
       "      <th>5670</th>\n",
       "      <td>2739-CCZMB</td>\n",
       "      <td>0</td>\n",
       "      <td>5</td>\n",
       "      <td>1</td>\n",
       "      <td>0</td>\n",
       "      <td>0</td>\n",
       "      <td>0</td>\n",
       "      <td>20.35</td>\n",
       "      <td>122</td>\n",
       "      <td>0</td>\n",
       "      <td>0</td>\n",
       "      <td>0</td>\n",
       "      <td>1</td>\n",
       "      <td>1</td>\n",
       "      <td>0</td>\n",
       "      <td>0</td>\n",
       "      <td>0.4</td>\n",
       "      <td>1</td>\n",
       "    </tr>\n",
       "    <tr>\n",
       "      <th>4152</th>\n",
       "      <td>8035-PWSEV</td>\n",
       "      <td>0</td>\n",
       "      <td>6</td>\n",
       "      <td>1</td>\n",
       "      <td>1</td>\n",
       "      <td>1</td>\n",
       "      <td>1</td>\n",
       "      <td>89.25</td>\n",
       "      <td>487.05</td>\n",
       "      <td>0</td>\n",
       "      <td>0</td>\n",
       "      <td>1</td>\n",
       "      <td>0</td>\n",
       "      <td>0</td>\n",
       "      <td>1</td>\n",
       "      <td>0</td>\n",
       "      <td>0.5</td>\n",
       "      <td>0</td>\n",
       "    </tr>\n",
       "    <tr>\n",
       "      <th>4890</th>\n",
       "      <td>6250-CGGUN</td>\n",
       "      <td>0</td>\n",
       "      <td>54</td>\n",
       "      <td>1</td>\n",
       "      <td>1</td>\n",
       "      <td>1</td>\n",
       "      <td>0</td>\n",
       "      <td>84.40</td>\n",
       "      <td>4484.05</td>\n",
       "      <td>0</td>\n",
       "      <td>1</td>\n",
       "      <td>1</td>\n",
       "      <td>0</td>\n",
       "      <td>0</td>\n",
       "      <td>0</td>\n",
       "      <td>1</td>\n",
       "      <td>4.5</td>\n",
       "      <td>1</td>\n",
       "    </tr>\n",
       "    <tr>\n",
       "      <th>2391</th>\n",
       "      <td>9499-XPZXM</td>\n",
       "      <td>0</td>\n",
       "      <td>72</td>\n",
       "      <td>1</td>\n",
       "      <td>0</td>\n",
       "      <td>1</td>\n",
       "      <td>0</td>\n",
       "      <td>64.75</td>\n",
       "      <td>4804.75</td>\n",
       "      <td>0</td>\n",
       "      <td>2</td>\n",
       "      <td>1</td>\n",
       "      <td>1</td>\n",
       "      <td>1</td>\n",
       "      <td>0</td>\n",
       "      <td>1</td>\n",
       "      <td>6.0</td>\n",
       "      <td>0</td>\n",
       "    </tr>\n",
       "    <tr>\n",
       "      <th>2896</th>\n",
       "      <td>2305-MRGLV</td>\n",
       "      <td>0</td>\n",
       "      <td>28</td>\n",
       "      <td>1</td>\n",
       "      <td>0</td>\n",
       "      <td>1</td>\n",
       "      <td>0</td>\n",
       "      <td>76.55</td>\n",
       "      <td>2065.4</td>\n",
       "      <td>0</td>\n",
       "      <td>0</td>\n",
       "      <td>1</td>\n",
       "      <td>1</td>\n",
       "      <td>1</td>\n",
       "      <td>0</td>\n",
       "      <td>0</td>\n",
       "      <td>2.3</td>\n",
       "      <td>1</td>\n",
       "    </tr>\n",
       "  </tbody>\n",
       "</table>\n",
       "</div>"
      ],
      "text/plain": [
       "     customer_id  senior_citizen  tenure  phone_service  device_protection  \\\n",
       "5670  2739-CCZMB               0       5              1                  0   \n",
       "4152  8035-PWSEV               0       6              1                  1   \n",
       "4890  6250-CGGUN               0      54              1                  1   \n",
       "2391  9499-XPZXM               0      72              1                  0   \n",
       "2896  2305-MRGLV               0      28              1                  0   \n",
       "\n",
       "      tech_support  paperless_billing  monthly_charges total_charges  churn  \\\n",
       "5670             0                  0            20.35           122      0   \n",
       "4152             1                  1            89.25        487.05      0   \n",
       "4890             1                  0            84.40       4484.05      0   \n",
       "2391             1                  0            64.75       4804.75      0   \n",
       "2896             1                  0            76.55        2065.4      0   \n",
       "\n",
       "      contract_type  internet_service  payment_type  partner_dependent  \\\n",
       "5670              0                 0             1                  1   \n",
       "4152              0                 1             0                  0   \n",
       "4890              1                 1             0                  0   \n",
       "2391              2                 1             1                  1   \n",
       "2896              0                 1             1                  1   \n",
       "\n",
       "      streaming  online_service  tenure_year  male  \n",
       "5670          0               0          0.4     1  \n",
       "4152          1               0          0.5     0  \n",
       "4890          0               1          4.5     1  \n",
       "2391          0               1          6.0     0  \n",
       "2896          0               0          2.3     1  "
      ]
     },
     "execution_count": 56,
     "metadata": {},
     "output_type": "execute_result"
    }
   ],
   "source": [
    "train.head()"
   ]
  },
  {
   "cell_type": "code",
   "execution_count": 59,
   "metadata": {
    "scrolled": true
   },
   "outputs": [
    {
     "data": {
      "text/html": [
       "<div>\n",
       "<style scoped>\n",
       "    .dataframe tbody tr th:only-of-type {\n",
       "        vertical-align: middle;\n",
       "    }\n",
       "\n",
       "    .dataframe tbody tr th {\n",
       "        vertical-align: top;\n",
       "    }\n",
       "\n",
       "    .dataframe thead th {\n",
       "        text-align: right;\n",
       "    }\n",
       "</style>\n",
       "<table border=\"1\" class=\"dataframe\">\n",
       "  <thead>\n",
       "    <tr style=\"text-align: right;\">\n",
       "      <th></th>\n",
       "      <th>senior_citizen</th>\n",
       "      <th>tenure</th>\n",
       "      <th>device_protection</th>\n",
       "      <th>tech_support</th>\n",
       "      <th>paperless_billing</th>\n",
       "      <th>monthly_charges</th>\n",
       "      <th>contract_type</th>\n",
       "      <th>internet_service</th>\n",
       "      <th>payment_type</th>\n",
       "      <th>partner_dependent</th>\n",
       "      <th>streaming</th>\n",
       "      <th>online_service</th>\n",
       "    </tr>\n",
       "  </thead>\n",
       "  <tbody>\n",
       "    <tr>\n",
       "      <th>5670</th>\n",
       "      <td>0</td>\n",
       "      <td>5</td>\n",
       "      <td>0</td>\n",
       "      <td>0</td>\n",
       "      <td>0</td>\n",
       "      <td>20.35</td>\n",
       "      <td>0</td>\n",
       "      <td>0</td>\n",
       "      <td>1</td>\n",
       "      <td>1</td>\n",
       "      <td>0</td>\n",
       "      <td>0</td>\n",
       "    </tr>\n",
       "    <tr>\n",
       "      <th>4152</th>\n",
       "      <td>0</td>\n",
       "      <td>6</td>\n",
       "      <td>1</td>\n",
       "      <td>1</td>\n",
       "      <td>1</td>\n",
       "      <td>89.25</td>\n",
       "      <td>0</td>\n",
       "      <td>1</td>\n",
       "      <td>0</td>\n",
       "      <td>0</td>\n",
       "      <td>1</td>\n",
       "      <td>0</td>\n",
       "    </tr>\n",
       "    <tr>\n",
       "      <th>4890</th>\n",
       "      <td>0</td>\n",
       "      <td>54</td>\n",
       "      <td>1</td>\n",
       "      <td>1</td>\n",
       "      <td>0</td>\n",
       "      <td>84.40</td>\n",
       "      <td>1</td>\n",
       "      <td>1</td>\n",
       "      <td>0</td>\n",
       "      <td>0</td>\n",
       "      <td>0</td>\n",
       "      <td>1</td>\n",
       "    </tr>\n",
       "    <tr>\n",
       "      <th>2391</th>\n",
       "      <td>0</td>\n",
       "      <td>72</td>\n",
       "      <td>0</td>\n",
       "      <td>1</td>\n",
       "      <td>0</td>\n",
       "      <td>64.75</td>\n",
       "      <td>2</td>\n",
       "      <td>1</td>\n",
       "      <td>1</td>\n",
       "      <td>1</td>\n",
       "      <td>0</td>\n",
       "      <td>1</td>\n",
       "    </tr>\n",
       "    <tr>\n",
       "      <th>2896</th>\n",
       "      <td>0</td>\n",
       "      <td>28</td>\n",
       "      <td>0</td>\n",
       "      <td>1</td>\n",
       "      <td>0</td>\n",
       "      <td>76.55</td>\n",
       "      <td>0</td>\n",
       "      <td>1</td>\n",
       "      <td>1</td>\n",
       "      <td>1</td>\n",
       "      <td>0</td>\n",
       "      <td>0</td>\n",
       "    </tr>\n",
       "  </tbody>\n",
       "</table>\n",
       "</div>"
      ],
      "text/plain": [
       "      senior_citizen  tenure  device_protection  tech_support  \\\n",
       "5670               0       5                  0             0   \n",
       "4152               0       6                  1             1   \n",
       "4890               0      54                  1             1   \n",
       "2391               0      72                  0             1   \n",
       "2896               0      28                  0             1   \n",
       "\n",
       "      paperless_billing  monthly_charges  contract_type  internet_service  \\\n",
       "5670                  0            20.35              0                 0   \n",
       "4152                  1            89.25              0                 1   \n",
       "4890                  0            84.40              1                 1   \n",
       "2391                  0            64.75              2                 1   \n",
       "2896                  0            76.55              0                 1   \n",
       "\n",
       "      payment_type  partner_dependent  streaming  online_service  \n",
       "5670             1                  1          0               0  \n",
       "4152             0                  0          1               0  \n",
       "4890             0                  0          0               1  \n",
       "2391             1                  1          0               1  \n",
       "2896             1                  1          0               0  "
      ]
     },
     "execution_count": 59,
     "metadata": {},
     "output_type": "execute_result"
    }
   ],
   "source": [
    "X_train = train.drop(columns=['customer_id','churn','male','phone_service','total_charges','tenure_year'])\n",
    "y_train = train['churn']\n",
    "\n",
    "X_train.head()"
   ]
  },
  {
   "cell_type": "code",
   "execution_count": 60,
   "metadata": {
    "scrolled": true
   },
   "outputs": [
    {
     "data": {
      "text/plain": [
       "5670    0\n",
       "4152    0\n",
       "4890    0\n",
       "2391    0\n",
       "2896    0\n",
       "Name: churn, dtype: int64"
      ]
     },
     "execution_count": 60,
     "metadata": {},
     "output_type": "execute_result"
    }
   ],
   "source": [
    "y_train[:5]"
   ]
  },
  {
   "cell_type": "code",
   "execution_count": 61,
   "metadata": {},
   "outputs": [
    {
     "data": {
      "text/plain": [
       "((3943, 12), (3943,))"
      ]
     },
     "execution_count": 61,
     "metadata": {},
     "output_type": "execute_result"
    }
   ],
   "source": [
    "X_train.shape, y_train.shape"
   ]
  },
  {
   "cell_type": "code",
   "execution_count": 62,
   "metadata": {
    "scrolled": true
   },
   "outputs": [
    {
     "name": "stdout",
     "output_type": "stream",
     "text": [
      "Coefficient: \n",
      " [[ 0.17813011 -0.02964689 -0.07129607 -0.58495958  0.41441983  0.02425137\n",
      "  -0.72737203  0.61091992 -0.2298884  -0.11678185 -0.02720378 -0.35899057]]\n",
      "Intercept: \n",
      " [-1.91462893]\n"
     ]
    }
   ],
   "source": [
    "# Create the logistic regression object\n",
    "\n",
    "logit = LogisticRegression(C=1, random_state=123)\n",
    "\n",
    "# Fit the model to the training data\n",
    "\n",
    "logit.fit(X_train, y_train)\n",
    "\n",
    "# Print the coefficients and intercept of the model\n",
    "\n",
    "print('Coefficient: \\n', logit.coef_)\n",
    "print('Intercept: \\n', logit.intercept_)"
   ]
  },
  {
   "cell_type": "code",
   "execution_count": 110,
   "metadata": {},
   "outputs": [
    {
     "data": {
      "text/html": [
       "<div>\n",
       "<style scoped>\n",
       "    .dataframe tbody tr th:only-of-type {\n",
       "        vertical-align: middle;\n",
       "    }\n",
       "\n",
       "    .dataframe tbody tr th {\n",
       "        vertical-align: top;\n",
       "    }\n",
       "\n",
       "    .dataframe thead th {\n",
       "        text-align: right;\n",
       "    }\n",
       "</style>\n",
       "<table border=\"1\" class=\"dataframe\">\n",
       "  <thead>\n",
       "    <tr style=\"text-align: right;\">\n",
       "      <th></th>\n",
       "      <th>0</th>\n",
       "      <th>features</th>\n",
       "      <th>coeffcient_abs</th>\n",
       "    </tr>\n",
       "  </thead>\n",
       "  <tbody>\n",
       "    <tr>\n",
       "      <th>6</th>\n",
       "      <td>-0.743536</td>\n",
       "      <td>contract_type</td>\n",
       "      <td>0.743536</td>\n",
       "    </tr>\n",
       "    <tr>\n",
       "      <th>7</th>\n",
       "      <td>0.638814</td>\n",
       "      <td>internet_service</td>\n",
       "      <td>0.638814</td>\n",
       "    </tr>\n",
       "    <tr>\n",
       "      <th>11</th>\n",
       "      <td>-0.597840</td>\n",
       "      <td>online_service</td>\n",
       "      <td>0.597840</td>\n",
       "    </tr>\n",
       "    <tr>\n",
       "      <th>3</th>\n",
       "      <td>-0.441201</td>\n",
       "      <td>tech_support</td>\n",
       "      <td>0.441201</td>\n",
       "    </tr>\n",
       "    <tr>\n",
       "      <th>0</th>\n",
       "      <td>0.327272</td>\n",
       "      <td>senior_citizen</td>\n",
       "      <td>0.327272</td>\n",
       "    </tr>\n",
       "    <tr>\n",
       "      <th>4</th>\n",
       "      <td>0.308850</td>\n",
       "      <td>paperless_billing</td>\n",
       "      <td>0.308850</td>\n",
       "    </tr>\n",
       "    <tr>\n",
       "      <th>8</th>\n",
       "      <td>-0.271518</td>\n",
       "      <td>payment_type</td>\n",
       "      <td>0.271518</td>\n",
       "    </tr>\n",
       "    <tr>\n",
       "      <th>2</th>\n",
       "      <td>-0.227468</td>\n",
       "      <td>device_protection</td>\n",
       "      <td>0.227468</td>\n",
       "    </tr>\n",
       "    <tr>\n",
       "      <th>10</th>\n",
       "      <td>0.121651</td>\n",
       "      <td>streaming</td>\n",
       "      <td>0.121651</td>\n",
       "    </tr>\n",
       "    <tr>\n",
       "      <th>9</th>\n",
       "      <td>-0.084383</td>\n",
       "      <td>partner_dependent</td>\n",
       "      <td>0.084383</td>\n",
       "    </tr>\n",
       "    <tr>\n",
       "      <th>1</th>\n",
       "      <td>-0.030461</td>\n",
       "      <td>tenure</td>\n",
       "      <td>0.030461</td>\n",
       "    </tr>\n",
       "    <tr>\n",
       "      <th>5</th>\n",
       "      <td>0.025279</td>\n",
       "      <td>monthly_charges</td>\n",
       "      <td>0.025279</td>\n",
       "    </tr>\n",
       "  </tbody>\n",
       "</table>\n",
       "</div>"
      ],
      "text/plain": [
       "           0           features  coeffcient_abs\n",
       "6  -0.743536      contract_type        0.743536\n",
       "7   0.638814   internet_service        0.638814\n",
       "11 -0.597840     online_service        0.597840\n",
       "3  -0.441201       tech_support        0.441201\n",
       "0   0.327272     senior_citizen        0.327272\n",
       "4   0.308850  paperless_billing        0.308850\n",
       "8  -0.271518       payment_type        0.271518\n",
       "2  -0.227468  device_protection        0.227468\n",
       "10  0.121651          streaming        0.121651\n",
       "9  -0.084383  partner_dependent        0.084383\n",
       "1  -0.030461             tenure        0.030461\n",
       "5   0.025279    monthly_charges        0.025279"
      ]
     },
     "execution_count": 110,
     "metadata": {},
     "output_type": "execute_result"
    }
   ],
   "source": [
    "# Rank features by the absolute values of their coefficient\n",
    "\n",
    "coefficient = logit.coef_\n",
    "coefficient = pd.DataFrame(coefficient).T\n",
    "coefficient['features'] = X_train.columns.tolist()\n",
    "coefficient['coeffcient_abs'] = coefficient[0].abs()\n",
    "coefficient.sort_values(by='coeffcient_abs', ascending=False)"
   ]
  },
  {
   "cell_type": "code",
   "execution_count": 64,
   "metadata": {},
   "outputs": [
    {
     "name": "stdout",
     "output_type": "stream",
     "text": [
      "0.7968551864062896\n",
      "[[2612  285]\n",
      " [ 516  530]]\n",
      "              precision    recall  f1-score   support\n",
      "\n",
      "           0       0.84      0.90      0.87      2897\n",
      "           1       0.65      0.51      0.57      1046\n",
      "\n",
      "    accuracy                           0.80      3943\n",
      "   macro avg       0.74      0.70      0.72      3943\n",
      "weighted avg       0.79      0.80      0.79      3943\n",
      "\n"
     ]
    }
   ],
   "source": [
    "y_pred = logit.predict(X_train)\n",
    "y_pred\n",
    "\n",
    "y_pred_proba = logit.predict_proba(X_train)\n",
    "\n",
    "# Compute the accuracy\n",
    "\n",
    "print(logit.score(X_train, y_train))\n",
    "\n",
    "# Create a confusion matrix\n",
    "\n",
    "print(confusion_matrix(y_train, y_pred))\n",
    "\n",
    "# Compute Precision, Recall, F1-score, and Support\n",
    "\n",
    "print(classification_report(y_train, y_pred))"
   ]
  },
  {
   "cell_type": "markdown",
   "metadata": {},
   "source": [
    "### Model 2: Decision Tree"
   ]
  },
  {
   "cell_type": "code",
   "execution_count": 65,
   "metadata": {},
   "outputs": [
    {
     "name": "stdout",
     "output_type": "stream",
     "text": [
      "0.7862033984275932\n",
      "[[2699  198]\n",
      " [ 645  401]]\n",
      "              precision    recall  f1-score   support\n",
      "\n",
      "           0       0.81      0.93      0.86      2897\n",
      "           1       0.67      0.38      0.49      1046\n",
      "\n",
      "    accuracy                           0.79      3943\n",
      "   macro avg       0.74      0.66      0.68      3943\n",
      "weighted avg       0.77      0.79      0.76      3943\n",
      "\n"
     ]
    }
   ],
   "source": [
    "clf = DecisionTreeClassifier(max_depth=3, random_state=123)\n",
    "\n",
    "clf.fit(X_train, y_train)\n",
    "\n",
    "y_pred = clf.predict(X_train)\n",
    "y_pred\n",
    "\n",
    "y_pred_proba = clf.predict_proba(X_train)\n",
    "\n",
    "# Compute the accuracy\n",
    "\n",
    "print(clf.score(X_train, y_train))\n",
    "\n",
    "# Create a confusion matrix\n",
    "\n",
    "print(confusion_matrix(y_train, y_pred))\n",
    "\n",
    "# Compute Precision, Recall, F1-score, and Support\n",
    "\n",
    "print(classification_report(y_train, y_pred))"
   ]
  },
  {
   "cell_type": "markdown",
   "metadata": {},
   "source": [
    "### Model 3: Random Forest"
   ]
  },
  {
   "cell_type": "code",
   "execution_count": 66,
   "metadata": {},
   "outputs": [
    {
     "name": "stdout",
     "output_type": "stream",
     "text": [
      "0.780877504438245\n",
      "[[2806   91]\n",
      " [ 773  273]]\n",
      "              precision    recall  f1-score   support\n",
      "\n",
      "           0       0.78      0.97      0.87      2897\n",
      "           1       0.75      0.26      0.39      1046\n",
      "\n",
      "    accuracy                           0.78      3943\n",
      "   macro avg       0.77      0.61      0.63      3943\n",
      "weighted avg       0.77      0.78      0.74      3943\n",
      "\n"
     ]
    }
   ],
   "source": [
    "rf = RandomForestClassifier(n_estimators=100, \n",
    "                            max_depth=3, \n",
    "                            min_samples_split=2, \n",
    "                            min_samples_leaf=5, \n",
    "                            random_state=123)\n",
    "\n",
    "rf.fit(X_train, y_train)\n",
    "\n",
    "y_pred = rf.predict(X_train)\n",
    "y_pred\n",
    "\n",
    "y_pred_proba = rf.predict_proba(X_train)\n",
    "\n",
    "# Compute the accuracy\n",
    "\n",
    "print(rf.score(X_train, y_train))\n",
    "\n",
    "# Create a confusion matrix\n",
    "\n",
    "print(confusion_matrix(y_train, y_pred))\n",
    "\n",
    "# Compute Precision, Recall, F1-score, and Support\n",
    "\n",
    "print(classification_report(y_train, y_pred))"
   ]
  },
  {
   "cell_type": "markdown",
   "metadata": {},
   "source": [
    "### Model 4: KNN"
   ]
  },
  {
   "cell_type": "code",
   "execution_count": 67,
   "metadata": {},
   "outputs": [
    {
     "name": "stdout",
     "output_type": "stream",
     "text": [
      "0.8392087243215826\n",
      "[[2667  230]\n",
      " [ 404  642]]\n",
      "              precision    recall  f1-score   support\n",
      "\n",
      "           0       0.87      0.92      0.89      2897\n",
      "           1       0.74      0.61      0.67      1046\n",
      "\n",
      "    accuracy                           0.84      3943\n",
      "   macro avg       0.80      0.77      0.78      3943\n",
      "weighted avg       0.83      0.84      0.83      3943\n",
      "\n"
     ]
    }
   ],
   "source": [
    "knn = KNeighborsClassifier(n_neighbors=5, weights='uniform')\n",
    "\n",
    "knn.fit(X_train, y_train)\n",
    "\n",
    "y_pred = knn.predict(X_train)\n",
    "y_pred\n",
    "\n",
    "y_pred_proba = knn.predict_proba(X_train)\n",
    "\n",
    "# Compute the accuracy\n",
    "\n",
    "print(knn.score(X_train, y_train))\n",
    "\n",
    "# Create a confusion matrix\n",
    "\n",
    "print(confusion_matrix(y_train, y_pred))\n",
    "\n",
    "# Compute Precision, Recall, F1-score, and Support\n",
    "\n",
    "print(classification_report(y_train, y_pred))"
   ]
  },
  {
   "cell_type": "markdown",
   "metadata": {},
   "source": [
    "### Validate\n",
    "* KNN\n",
    "* LR\n",
    "* CLF"
   ]
  },
  {
   "cell_type": "code",
   "execution_count": 70,
   "metadata": {},
   "outputs": [
    {
     "data": {
      "text/html": [
       "<div>\n",
       "<style scoped>\n",
       "    .dataframe tbody tr th:only-of-type {\n",
       "        vertical-align: middle;\n",
       "    }\n",
       "\n",
       "    .dataframe tbody tr th {\n",
       "        vertical-align: top;\n",
       "    }\n",
       "\n",
       "    .dataframe thead th {\n",
       "        text-align: right;\n",
       "    }\n",
       "</style>\n",
       "<table border=\"1\" class=\"dataframe\">\n",
       "  <thead>\n",
       "    <tr style=\"text-align: right;\">\n",
       "      <th></th>\n",
       "      <th>senior_citizen</th>\n",
       "      <th>tenure</th>\n",
       "      <th>device_protection</th>\n",
       "      <th>tech_support</th>\n",
       "      <th>paperless_billing</th>\n",
       "      <th>monthly_charges</th>\n",
       "      <th>contract_type</th>\n",
       "      <th>internet_service</th>\n",
       "      <th>payment_type</th>\n",
       "      <th>partner_dependent</th>\n",
       "      <th>streaming</th>\n",
       "      <th>online_service</th>\n",
       "    </tr>\n",
       "  </thead>\n",
       "  <tbody>\n",
       "    <tr>\n",
       "      <th>611</th>\n",
       "      <td>0</td>\n",
       "      <td>7</td>\n",
       "      <td>1</td>\n",
       "      <td>0</td>\n",
       "      <td>0</td>\n",
       "      <td>48.70</td>\n",
       "      <td>0</td>\n",
       "      <td>1</td>\n",
       "      <td>0</td>\n",
       "      <td>1</td>\n",
       "      <td>0</td>\n",
       "      <td>0</td>\n",
       "    </tr>\n",
       "    <tr>\n",
       "      <th>4449</th>\n",
       "      <td>0</td>\n",
       "      <td>3</td>\n",
       "      <td>0</td>\n",
       "      <td>0</td>\n",
       "      <td>1</td>\n",
       "      <td>69.55</td>\n",
       "      <td>0</td>\n",
       "      <td>1</td>\n",
       "      <td>1</td>\n",
       "      <td>0</td>\n",
       "      <td>0</td>\n",
       "      <td>0</td>\n",
       "    </tr>\n",
       "    <tr>\n",
       "      <th>4871</th>\n",
       "      <td>0</td>\n",
       "      <td>50</td>\n",
       "      <td>1</td>\n",
       "      <td>0</td>\n",
       "      <td>1</td>\n",
       "      <td>104.40</td>\n",
       "      <td>1</td>\n",
       "      <td>1</td>\n",
       "      <td>0</td>\n",
       "      <td>1</td>\n",
       "      <td>1</td>\n",
       "      <td>1</td>\n",
       "    </tr>\n",
       "    <tr>\n",
       "      <th>5889</th>\n",
       "      <td>0</td>\n",
       "      <td>8</td>\n",
       "      <td>0</td>\n",
       "      <td>0</td>\n",
       "      <td>0</td>\n",
       "      <td>19.20</td>\n",
       "      <td>0</td>\n",
       "      <td>0</td>\n",
       "      <td>0</td>\n",
       "      <td>0</td>\n",
       "      <td>0</td>\n",
       "      <td>0</td>\n",
       "    </tr>\n",
       "    <tr>\n",
       "      <th>432</th>\n",
       "      <td>0</td>\n",
       "      <td>2</td>\n",
       "      <td>0</td>\n",
       "      <td>0</td>\n",
       "      <td>1</td>\n",
       "      <td>53.85</td>\n",
       "      <td>0</td>\n",
       "      <td>1</td>\n",
       "      <td>0</td>\n",
       "      <td>0</td>\n",
       "      <td>0</td>\n",
       "      <td>1</td>\n",
       "    </tr>\n",
       "  </tbody>\n",
       "</table>\n",
       "</div>"
      ],
      "text/plain": [
       "      senior_citizen  tenure  device_protection  tech_support  \\\n",
       "611                0       7                  1             0   \n",
       "4449               0       3                  0             0   \n",
       "4871               0      50                  1             0   \n",
       "5889               0       8                  0             0   \n",
       "432                0       2                  0             0   \n",
       "\n",
       "      paperless_billing  monthly_charges  contract_type  internet_service  \\\n",
       "611                   0            48.70              0                 1   \n",
       "4449                  1            69.55              0                 1   \n",
       "4871                  1           104.40              1                 1   \n",
       "5889                  0            19.20              0                 0   \n",
       "432                   1            53.85              0                 1   \n",
       "\n",
       "      payment_type  partner_dependent  streaming  online_service  \n",
       "611              0                  1          0               0  \n",
       "4449             1                  0          0               0  \n",
       "4871             0                  1          1               1  \n",
       "5889             0                  0          0               0  \n",
       "432              0                  0          0               1  "
      ]
     },
     "execution_count": 70,
     "metadata": {},
     "output_type": "execute_result"
    }
   ],
   "source": [
    "X_validate = validate.drop(columns=['customer_id', 'churn','male',\n",
    "                                    'phone_service','total_charges','tenure_year'])\n",
    "y_validate = validate['churn']\n",
    "\n",
    "X_validate.head()"
   ]
  },
  {
   "cell_type": "code",
   "execution_count": 71,
   "metadata": {},
   "outputs": [
    {
     "name": "stdout",
     "output_type": "stream",
     "text": [
      "<class 'pandas.core.frame.DataFrame'>\n",
      "Int64Index: 1691 entries, 611 to 3430\n",
      "Data columns (total 12 columns):\n",
      " #   Column             Non-Null Count  Dtype  \n",
      "---  ------             --------------  -----  \n",
      " 0   senior_citizen     1691 non-null   int64  \n",
      " 1   tenure             1691 non-null   int64  \n",
      " 2   device_protection  1691 non-null   int64  \n",
      " 3   tech_support       1691 non-null   int64  \n",
      " 4   paperless_billing  1691 non-null   int64  \n",
      " 5   monthly_charges    1691 non-null   float64\n",
      " 6   contract_type      1691 non-null   int64  \n",
      " 7   internet_service   1691 non-null   int64  \n",
      " 8   payment_type       1691 non-null   int64  \n",
      " 9   partner_dependent  1691 non-null   int64  \n",
      " 10  streaming          1691 non-null   int64  \n",
      " 11  online_service     1691 non-null   int64  \n",
      "dtypes: float64(1), int64(11)\n",
      "memory usage: 171.7 KB\n"
     ]
    }
   ],
   "source": [
    "X_validate.info()"
   ]
  },
  {
   "cell_type": "code",
   "execution_count": 72,
   "metadata": {},
   "outputs": [
    {
     "name": "stdout",
     "output_type": "stream",
     "text": [
      "0.8326434062684802\n",
      "[[1134  108]\n",
      " [ 175  274]]\n",
      "              precision    recall  f1-score   support\n",
      "\n",
      "           0       0.87      0.91      0.89      1242\n",
      "           1       0.72      0.61      0.66       449\n",
      "\n",
      "    accuracy                           0.83      1691\n",
      "   macro avg       0.79      0.76      0.77      1691\n",
      "weighted avg       0.83      0.83      0.83      1691\n",
      "\n"
     ]
    }
   ],
   "source": [
    "knn.fit(X_validate, y_validate)\n",
    "\n",
    "y_pred = knn.predict(X_validate)\n",
    "y_pred\n",
    "\n",
    "y_pred_proba = knn.predict_proba(X_validate)\n",
    "\n",
    "# Compute the accuracy\n",
    "\n",
    "print(knn.score(X_validate, y_validate))\n",
    "\n",
    "# Create a confusion matrix\n",
    "\n",
    "print(confusion_matrix(y_validate, y_pred))\n",
    "\n",
    "# Compute Precision, Recall, F1-score, and Support\n",
    "\n",
    "print(classification_report(y_validate, y_pred))"
   ]
  },
  {
   "cell_type": "code",
   "execution_count": 73,
   "metadata": {},
   "outputs": [
    {
     "name": "stdout",
     "output_type": "stream",
     "text": [
      "0.8113542282672974\n",
      "[[1126  116]\n",
      " [ 203  246]]\n",
      "              precision    recall  f1-score   support\n",
      "\n",
      "           0       0.85      0.91      0.88      1242\n",
      "           1       0.68      0.55      0.61       449\n",
      "\n",
      "    accuracy                           0.81      1691\n",
      "   macro avg       0.76      0.73      0.74      1691\n",
      "weighted avg       0.80      0.81      0.80      1691\n",
      "\n"
     ]
    }
   ],
   "source": [
    "logit.fit(X_validate, y_validate)\n",
    "\n",
    "y_pred = logit.predict(X_validate)\n",
    "y_pred\n",
    "\n",
    "y_pred_proba = logit.predict_proba(X_validate)\n",
    "\n",
    "# Compute the accuracy\n",
    "\n",
    "print(logit.score(X_validate, y_validate))\n",
    "\n",
    "# Create a confusion matrix\n",
    "\n",
    "print(confusion_matrix(y_validate, y_pred))\n",
    "\n",
    "# Compute Precision, Recall, F1-score, and Support\n",
    "\n",
    "print(classification_report(y_validate, y_pred))"
   ]
  },
  {
   "cell_type": "code",
   "execution_count": 74,
   "metadata": {},
   "outputs": [
    {
     "name": "stdout",
     "output_type": "stream",
     "text": [
      "0.7912477823772915\n",
      "[[1167   75]\n",
      " [ 278  171]]\n",
      "              precision    recall  f1-score   support\n",
      "\n",
      "           0       0.81      0.94      0.87      1242\n",
      "           1       0.70      0.38      0.49       449\n",
      "\n",
      "    accuracy                           0.79      1691\n",
      "   macro avg       0.75      0.66      0.68      1691\n",
      "weighted avg       0.78      0.79      0.77      1691\n",
      "\n"
     ]
    }
   ],
   "source": [
    "clf.fit(X_validate, y_validate)\n",
    "\n",
    "y_pred = clf.predict(X_validate)\n",
    "y_pred\n",
    "\n",
    "y_pred_proba = clf.predict_proba(X_validate)\n",
    "\n",
    "# Compute the accuracy\n",
    "\n",
    "print(clf.score(X_validate, y_validate))\n",
    "\n",
    "# Create a confusion matrix\n",
    "\n",
    "print(confusion_matrix(y_validate, y_pred))\n",
    "\n",
    "# Compute Precision, Recall, F1-score, and Support\n",
    "\n",
    "print(classification_report(y_validate, y_pred))"
   ]
  },
  {
   "cell_type": "markdown",
   "metadata": {},
   "source": [
    "### Test using best model"
   ]
  },
  {
   "cell_type": "code",
   "execution_count": 77,
   "metadata": {},
   "outputs": [
    {
     "data": {
      "text/html": [
       "<div>\n",
       "<style scoped>\n",
       "    .dataframe tbody tr th:only-of-type {\n",
       "        vertical-align: middle;\n",
       "    }\n",
       "\n",
       "    .dataframe tbody tr th {\n",
       "        vertical-align: top;\n",
       "    }\n",
       "\n",
       "    .dataframe thead th {\n",
       "        text-align: right;\n",
       "    }\n",
       "</style>\n",
       "<table border=\"1\" class=\"dataframe\">\n",
       "  <thead>\n",
       "    <tr style=\"text-align: right;\">\n",
       "      <th></th>\n",
       "      <th>senior_citizen</th>\n",
       "      <th>tenure</th>\n",
       "      <th>device_protection</th>\n",
       "      <th>tech_support</th>\n",
       "      <th>paperless_billing</th>\n",
       "      <th>monthly_charges</th>\n",
       "      <th>contract_type</th>\n",
       "      <th>internet_service</th>\n",
       "      <th>payment_type</th>\n",
       "      <th>partner_dependent</th>\n",
       "      <th>streaming</th>\n",
       "      <th>online_service</th>\n",
       "    </tr>\n",
       "  </thead>\n",
       "  <tbody>\n",
       "    <tr>\n",
       "      <th>3160</th>\n",
       "      <td>0</td>\n",
       "      <td>2</td>\n",
       "      <td>0</td>\n",
       "      <td>0</td>\n",
       "      <td>0</td>\n",
       "      <td>79.55</td>\n",
       "      <td>0</td>\n",
       "      <td>1</td>\n",
       "      <td>0</td>\n",
       "      <td>0</td>\n",
       "      <td>0</td>\n",
       "      <td>1</td>\n",
       "    </tr>\n",
       "    <tr>\n",
       "      <th>1592</th>\n",
       "      <td>0</td>\n",
       "      <td>23</td>\n",
       "      <td>0</td>\n",
       "      <td>1</td>\n",
       "      <td>1</td>\n",
       "      <td>57.75</td>\n",
       "      <td>1</td>\n",
       "      <td>1</td>\n",
       "      <td>0</td>\n",
       "      <td>1</td>\n",
       "      <td>0</td>\n",
       "      <td>1</td>\n",
       "    </tr>\n",
       "    <tr>\n",
       "      <th>5824</th>\n",
       "      <td>0</td>\n",
       "      <td>15</td>\n",
       "      <td>0</td>\n",
       "      <td>0</td>\n",
       "      <td>0</td>\n",
       "      <td>19.75</td>\n",
       "      <td>0</td>\n",
       "      <td>0</td>\n",
       "      <td>1</td>\n",
       "      <td>0</td>\n",
       "      <td>0</td>\n",
       "      <td>0</td>\n",
       "    </tr>\n",
       "    <tr>\n",
       "      <th>3866</th>\n",
       "      <td>1</td>\n",
       "      <td>14</td>\n",
       "      <td>0</td>\n",
       "      <td>0</td>\n",
       "      <td>0</td>\n",
       "      <td>78.85</td>\n",
       "      <td>0</td>\n",
       "      <td>1</td>\n",
       "      <td>0</td>\n",
       "      <td>0</td>\n",
       "      <td>0</td>\n",
       "      <td>1</td>\n",
       "    </tr>\n",
       "    <tr>\n",
       "      <th>714</th>\n",
       "      <td>0</td>\n",
       "      <td>3</td>\n",
       "      <td>0</td>\n",
       "      <td>0</td>\n",
       "      <td>0</td>\n",
       "      <td>35.20</td>\n",
       "      <td>0</td>\n",
       "      <td>1</td>\n",
       "      <td>1</td>\n",
       "      <td>0</td>\n",
       "      <td>1</td>\n",
       "      <td>0</td>\n",
       "    </tr>\n",
       "  </tbody>\n",
       "</table>\n",
       "</div>"
      ],
      "text/plain": [
       "      senior_citizen  tenure  device_protection  tech_support  \\\n",
       "3160               0       2                  0             0   \n",
       "1592               0      23                  0             1   \n",
       "5824               0      15                  0             0   \n",
       "3866               1      14                  0             0   \n",
       "714                0       3                  0             0   \n",
       "\n",
       "      paperless_billing  monthly_charges  contract_type  internet_service  \\\n",
       "3160                  0            79.55              0                 1   \n",
       "1592                  1            57.75              1                 1   \n",
       "5824                  0            19.75              0                 0   \n",
       "3866                  0            78.85              0                 1   \n",
       "714                   0            35.20              0                 1   \n",
       "\n",
       "      payment_type  partner_dependent  streaming  online_service  \n",
       "3160             0                  0          0               1  \n",
       "1592             0                  1          0               1  \n",
       "5824             1                  0          0               0  \n",
       "3866             0                  0          0               1  \n",
       "714              1                  0          1               0  "
      ]
     },
     "execution_count": 77,
     "metadata": {},
     "output_type": "execute_result"
    }
   ],
   "source": [
    "X_test = test.drop(columns=['customer_id','churn','male','phone_service','total_charges','tenure_year'])\n",
    "y_test = test['churn']\n",
    "\n",
    "X_test.head()"
   ]
  },
  {
   "cell_type": "code",
   "execution_count": 78,
   "metadata": {},
   "outputs": [
    {
     "name": "stdout",
     "output_type": "stream",
     "text": [
      "<class 'pandas.core.frame.DataFrame'>\n",
      "Int64Index: 1409 entries, 3160 to 779\n",
      "Data columns (total 12 columns):\n",
      " #   Column             Non-Null Count  Dtype  \n",
      "---  ------             --------------  -----  \n",
      " 0   senior_citizen     1409 non-null   int64  \n",
      " 1   tenure             1409 non-null   int64  \n",
      " 2   device_protection  1409 non-null   int64  \n",
      " 3   tech_support       1409 non-null   int64  \n",
      " 4   paperless_billing  1409 non-null   int64  \n",
      " 5   monthly_charges    1409 non-null   float64\n",
      " 6   contract_type      1409 non-null   int64  \n",
      " 7   internet_service   1409 non-null   int64  \n",
      " 8   payment_type       1409 non-null   int64  \n",
      " 9   partner_dependent  1409 non-null   int64  \n",
      " 10  streaming          1409 non-null   int64  \n",
      " 11  online_service     1409 non-null   int64  \n",
      "dtypes: float64(1), int64(11)\n",
      "memory usage: 143.1 KB\n"
     ]
    }
   ],
   "source": [
    "X_test.info()"
   ]
  },
  {
   "cell_type": "code",
   "execution_count": 79,
   "metadata": {},
   "outputs": [
    {
     "name": "stdout",
     "output_type": "stream",
     "text": [
      "0.8282469836763662\n",
      "[[952  83]\n",
      " [159 215]]\n",
      "              precision    recall  f1-score   support\n",
      "\n",
      "           0       0.86      0.92      0.89      1035\n",
      "           1       0.72      0.57      0.64       374\n",
      "\n",
      "    accuracy                           0.83      1409\n",
      "   macro avg       0.79      0.75      0.76      1409\n",
      "weighted avg       0.82      0.83      0.82      1409\n",
      "\n"
     ]
    }
   ],
   "source": [
    "knn.fit(X_test, y_test)\n",
    "\n",
    "y_pred = knn.predict(X_test)\n",
    "y_pred\n",
    "\n",
    "y_pred_proba = knn.predict_proba(X_test)\n",
    "\n",
    "# Compute the accuracy\n",
    "\n",
    "print(knn.score(X_test, y_test))\n",
    "\n",
    "# Create a confusion matrix\n",
    "\n",
    "print(confusion_matrix(y_test, y_pred))\n",
    "\n",
    "# Compute Precision, Recall, F1-score, and Support\n",
    "\n",
    "print(classification_report(y_test, y_pred))"
   ]
  },
  {
   "cell_type": "markdown",
   "metadata": {},
   "source": [
    "### predictions.csv\n",
    "* csv file with customer_id, probability of churn, and prediction of churn (1=churn, 0=not_churn)"
   ]
  },
  {
   "cell_type": "code",
   "execution_count": 80,
   "metadata": {},
   "outputs": [
    {
     "data": {
      "text/html": [
       "<div>\n",
       "<style scoped>\n",
       "    .dataframe tbody tr th:only-of-type {\n",
       "        vertical-align: middle;\n",
       "    }\n",
       "\n",
       "    .dataframe tbody tr th {\n",
       "        vertical-align: top;\n",
       "    }\n",
       "\n",
       "    .dataframe thead th {\n",
       "        text-align: right;\n",
       "    }\n",
       "</style>\n",
       "<table border=\"1\" class=\"dataframe\">\n",
       "  <thead>\n",
       "    <tr style=\"text-align: right;\">\n",
       "      <th></th>\n",
       "      <th>payment_type_id</th>\n",
       "      <th>internet_service_type_id</th>\n",
       "      <th>contract_type_id</th>\n",
       "      <th>customer_id</th>\n",
       "      <th>gender</th>\n",
       "      <th>senior_citizen</th>\n",
       "      <th>partner</th>\n",
       "      <th>dependents</th>\n",
       "      <th>tenure</th>\n",
       "      <th>phone_service</th>\n",
       "      <th>...</th>\n",
       "      <th>tech_support</th>\n",
       "      <th>streaming_tv</th>\n",
       "      <th>streaming_movies</th>\n",
       "      <th>paperless_billing</th>\n",
       "      <th>monthly_charges</th>\n",
       "      <th>total_charges</th>\n",
       "      <th>churn</th>\n",
       "      <th>contract_type</th>\n",
       "      <th>internet_service_type</th>\n",
       "      <th>payment_type</th>\n",
       "    </tr>\n",
       "  </thead>\n",
       "  <tbody>\n",
       "    <tr>\n",
       "      <th>0</th>\n",
       "      <td>2</td>\n",
       "      <td>1</td>\n",
       "      <td>1</td>\n",
       "      <td>0003-MKNFE</td>\n",
       "      <td>Male</td>\n",
       "      <td>0</td>\n",
       "      <td>No</td>\n",
       "      <td>No</td>\n",
       "      <td>9</td>\n",
       "      <td>Yes</td>\n",
       "      <td>...</td>\n",
       "      <td>No</td>\n",
       "      <td>No</td>\n",
       "      <td>Yes</td>\n",
       "      <td>No</td>\n",
       "      <td>59.9</td>\n",
       "      <td>542.4</td>\n",
       "      <td>No</td>\n",
       "      <td>Month-to-month</td>\n",
       "      <td>DSL</td>\n",
       "      <td>Mailed check</td>\n",
       "    </tr>\n",
       "    <tr>\n",
       "      <th>1</th>\n",
       "      <td>4</td>\n",
       "      <td>1</td>\n",
       "      <td>1</td>\n",
       "      <td>0013-MHZWF</td>\n",
       "      <td>Female</td>\n",
       "      <td>0</td>\n",
       "      <td>No</td>\n",
       "      <td>Yes</td>\n",
       "      <td>9</td>\n",
       "      <td>Yes</td>\n",
       "      <td>...</td>\n",
       "      <td>Yes</td>\n",
       "      <td>Yes</td>\n",
       "      <td>Yes</td>\n",
       "      <td>Yes</td>\n",
       "      <td>69.4</td>\n",
       "      <td>571.45</td>\n",
       "      <td>No</td>\n",
       "      <td>Month-to-month</td>\n",
       "      <td>DSL</td>\n",
       "      <td>Credit card (automatic)</td>\n",
       "    </tr>\n",
       "    <tr>\n",
       "      <th>2</th>\n",
       "      <td>1</td>\n",
       "      <td>1</td>\n",
       "      <td>1</td>\n",
       "      <td>0015-UOCOJ</td>\n",
       "      <td>Female</td>\n",
       "      <td>1</td>\n",
       "      <td>No</td>\n",
       "      <td>No</td>\n",
       "      <td>7</td>\n",
       "      <td>Yes</td>\n",
       "      <td>...</td>\n",
       "      <td>No</td>\n",
       "      <td>No</td>\n",
       "      <td>No</td>\n",
       "      <td>Yes</td>\n",
       "      <td>48.2</td>\n",
       "      <td>340.35</td>\n",
       "      <td>No</td>\n",
       "      <td>Month-to-month</td>\n",
       "      <td>DSL</td>\n",
       "      <td>Electronic check</td>\n",
       "    </tr>\n",
       "    <tr>\n",
       "      <th>3</th>\n",
       "      <td>1</td>\n",
       "      <td>1</td>\n",
       "      <td>1</td>\n",
       "      <td>0023-HGHWL</td>\n",
       "      <td>Male</td>\n",
       "      <td>1</td>\n",
       "      <td>No</td>\n",
       "      <td>No</td>\n",
       "      <td>1</td>\n",
       "      <td>No</td>\n",
       "      <td>...</td>\n",
       "      <td>No</td>\n",
       "      <td>No</td>\n",
       "      <td>No</td>\n",
       "      <td>Yes</td>\n",
       "      <td>25.1</td>\n",
       "      <td>25.1</td>\n",
       "      <td>Yes</td>\n",
       "      <td>Month-to-month</td>\n",
       "      <td>DSL</td>\n",
       "      <td>Electronic check</td>\n",
       "    </tr>\n",
       "    <tr>\n",
       "      <th>4</th>\n",
       "      <td>3</td>\n",
       "      <td>1</td>\n",
       "      <td>1</td>\n",
       "      <td>0032-PGELS</td>\n",
       "      <td>Female</td>\n",
       "      <td>0</td>\n",
       "      <td>Yes</td>\n",
       "      <td>Yes</td>\n",
       "      <td>1</td>\n",
       "      <td>No</td>\n",
       "      <td>...</td>\n",
       "      <td>No</td>\n",
       "      <td>No</td>\n",
       "      <td>No</td>\n",
       "      <td>No</td>\n",
       "      <td>30.5</td>\n",
       "      <td>30.5</td>\n",
       "      <td>Yes</td>\n",
       "      <td>Month-to-month</td>\n",
       "      <td>DSL</td>\n",
       "      <td>Bank transfer (automatic)</td>\n",
       "    </tr>\n",
       "  </tbody>\n",
       "</table>\n",
       "<p>5 rows × 24 columns</p>\n",
       "</div>"
      ],
      "text/plain": [
       "   payment_type_id  internet_service_type_id  contract_type_id customer_id  \\\n",
       "0                2                         1                 1  0003-MKNFE   \n",
       "1                4                         1                 1  0013-MHZWF   \n",
       "2                1                         1                 1  0015-UOCOJ   \n",
       "3                1                         1                 1  0023-HGHWL   \n",
       "4                3                         1                 1  0032-PGELS   \n",
       "\n",
       "   gender  senior_citizen partner dependents  tenure phone_service  ...  \\\n",
       "0    Male               0      No         No       9           Yes  ...   \n",
       "1  Female               0      No        Yes       9           Yes  ...   \n",
       "2  Female               1      No         No       7           Yes  ...   \n",
       "3    Male               1      No         No       1            No  ...   \n",
       "4  Female               0     Yes        Yes       1            No  ...   \n",
       "\n",
       "  tech_support streaming_tv streaming_movies paperless_billing  \\\n",
       "0           No           No              Yes                No   \n",
       "1          Yes          Yes              Yes               Yes   \n",
       "2           No           No               No               Yes   \n",
       "3           No           No               No               Yes   \n",
       "4           No           No               No                No   \n",
       "\n",
       "  monthly_charges total_charges churn   contract_type  internet_service_type  \\\n",
       "0            59.9         542.4    No  Month-to-month                    DSL   \n",
       "1            69.4        571.45    No  Month-to-month                    DSL   \n",
       "2            48.2        340.35    No  Month-to-month                    DSL   \n",
       "3            25.1          25.1   Yes  Month-to-month                    DSL   \n",
       "4            30.5          30.5   Yes  Month-to-month                    DSL   \n",
       "\n",
       "                payment_type  \n",
       "0               Mailed check  \n",
       "1    Credit card (automatic)  \n",
       "2           Electronic check  \n",
       "3           Electronic check  \n",
       "4  Bank transfer (automatic)  \n",
       "\n",
       "[5 rows x 24 columns]"
      ]
     },
     "execution_count": 80,
     "metadata": {},
     "output_type": "execute_result"
    }
   ],
   "source": [
    "# load original data in form of pandas data frame. \n",
    "\n",
    "df = acquire.get_telco_churn_data()\n",
    "df.head()"
   ]
  },
  {
   "cell_type": "code",
   "execution_count": 81,
   "metadata": {},
   "outputs": [
    {
     "data": {
      "text/html": [
       "<div>\n",
       "<style scoped>\n",
       "    .dataframe tbody tr th:only-of-type {\n",
       "        vertical-align: middle;\n",
       "    }\n",
       "\n",
       "    .dataframe tbody tr th {\n",
       "        vertical-align: top;\n",
       "    }\n",
       "\n",
       "    .dataframe thead th {\n",
       "        text-align: right;\n",
       "    }\n",
       "</style>\n",
       "<table border=\"1\" class=\"dataframe\">\n",
       "  <thead>\n",
       "    <tr style=\"text-align: right;\">\n",
       "      <th></th>\n",
       "      <th>customer_id</th>\n",
       "      <th>senior_citizen</th>\n",
       "      <th>tenure</th>\n",
       "      <th>phone_service</th>\n",
       "      <th>device_protection</th>\n",
       "      <th>tech_support</th>\n",
       "      <th>paperless_billing</th>\n",
       "      <th>monthly_charges</th>\n",
       "      <th>total_charges</th>\n",
       "      <th>churn</th>\n",
       "      <th>contract_type</th>\n",
       "      <th>internet_service</th>\n",
       "      <th>payment_type</th>\n",
       "      <th>partner_dependent</th>\n",
       "      <th>streaming</th>\n",
       "      <th>online_service</th>\n",
       "      <th>tenure_year</th>\n",
       "      <th>male</th>\n",
       "    </tr>\n",
       "  </thead>\n",
       "  <tbody>\n",
       "    <tr>\n",
       "      <th>0</th>\n",
       "      <td>0003-MKNFE</td>\n",
       "      <td>0</td>\n",
       "      <td>9</td>\n",
       "      <td>1</td>\n",
       "      <td>0</td>\n",
       "      <td>0</td>\n",
       "      <td>0</td>\n",
       "      <td>59.9</td>\n",
       "      <td>542.4</td>\n",
       "      <td>0</td>\n",
       "      <td>0</td>\n",
       "      <td>1</td>\n",
       "      <td>0</td>\n",
       "      <td>0</td>\n",
       "      <td>1</td>\n",
       "      <td>0</td>\n",
       "      <td>0.8</td>\n",
       "      <td>1</td>\n",
       "    </tr>\n",
       "    <tr>\n",
       "      <th>1</th>\n",
       "      <td>0013-MHZWF</td>\n",
       "      <td>0</td>\n",
       "      <td>9</td>\n",
       "      <td>1</td>\n",
       "      <td>0</td>\n",
       "      <td>1</td>\n",
       "      <td>1</td>\n",
       "      <td>69.4</td>\n",
       "      <td>571.45</td>\n",
       "      <td>0</td>\n",
       "      <td>0</td>\n",
       "      <td>1</td>\n",
       "      <td>1</td>\n",
       "      <td>1</td>\n",
       "      <td>1</td>\n",
       "      <td>0</td>\n",
       "      <td>0.8</td>\n",
       "      <td>0</td>\n",
       "    </tr>\n",
       "    <tr>\n",
       "      <th>2</th>\n",
       "      <td>0015-UOCOJ</td>\n",
       "      <td>1</td>\n",
       "      <td>7</td>\n",
       "      <td>1</td>\n",
       "      <td>0</td>\n",
       "      <td>0</td>\n",
       "      <td>1</td>\n",
       "      <td>48.2</td>\n",
       "      <td>340.35</td>\n",
       "      <td>0</td>\n",
       "      <td>0</td>\n",
       "      <td>1</td>\n",
       "      <td>0</td>\n",
       "      <td>0</td>\n",
       "      <td>0</td>\n",
       "      <td>1</td>\n",
       "      <td>0.6</td>\n",
       "      <td>0</td>\n",
       "    </tr>\n",
       "    <tr>\n",
       "      <th>3</th>\n",
       "      <td>0023-HGHWL</td>\n",
       "      <td>1</td>\n",
       "      <td>1</td>\n",
       "      <td>0</td>\n",
       "      <td>0</td>\n",
       "      <td>0</td>\n",
       "      <td>1</td>\n",
       "      <td>25.1</td>\n",
       "      <td>25.1</td>\n",
       "      <td>1</td>\n",
       "      <td>0</td>\n",
       "      <td>1</td>\n",
       "      <td>0</td>\n",
       "      <td>0</td>\n",
       "      <td>0</td>\n",
       "      <td>0</td>\n",
       "      <td>0.1</td>\n",
       "      <td>1</td>\n",
       "    </tr>\n",
       "    <tr>\n",
       "      <th>4</th>\n",
       "      <td>0032-PGELS</td>\n",
       "      <td>0</td>\n",
       "      <td>1</td>\n",
       "      <td>0</td>\n",
       "      <td>0</td>\n",
       "      <td>0</td>\n",
       "      <td>0</td>\n",
       "      <td>30.5</td>\n",
       "      <td>30.5</td>\n",
       "      <td>1</td>\n",
       "      <td>0</td>\n",
       "      <td>1</td>\n",
       "      <td>1</td>\n",
       "      <td>1</td>\n",
       "      <td>0</td>\n",
       "      <td>1</td>\n",
       "      <td>0.1</td>\n",
       "      <td>0</td>\n",
       "    </tr>\n",
       "  </tbody>\n",
       "</table>\n",
       "</div>"
      ],
      "text/plain": [
       "  customer_id  senior_citizen  tenure  phone_service  device_protection  \\\n",
       "0  0003-MKNFE               0       9              1                  0   \n",
       "1  0013-MHZWF               0       9              1                  0   \n",
       "2  0015-UOCOJ               1       7              1                  0   \n",
       "3  0023-HGHWL               1       1              0                  0   \n",
       "4  0032-PGELS               0       1              0                  0   \n",
       "\n",
       "   tech_support  paperless_billing  monthly_charges total_charges  churn  \\\n",
       "0             0                  0             59.9         542.4      0   \n",
       "1             1                  1             69.4        571.45      0   \n",
       "2             0                  1             48.2        340.35      0   \n",
       "3             0                  1             25.1          25.1      1   \n",
       "4             0                  0             30.5          30.5      1   \n",
       "\n",
       "   contract_type  internet_service  payment_type  partner_dependent  \\\n",
       "0              0                 1             0                  0   \n",
       "1              0                 1             1                  1   \n",
       "2              0                 1             0                  0   \n",
       "3              0                 1             0                  0   \n",
       "4              0                 1             1                  1   \n",
       "\n",
       "   streaming  online_service  tenure_year  male  \n",
       "0          1               0          0.8     1  \n",
       "1          1               0          0.8     0  \n",
       "2          0               1          0.6     0  \n",
       "3          0               0          0.1     1  \n",
       "4          0               1          0.1     0  "
      ]
     },
     "execution_count": 81,
     "metadata": {},
     "output_type": "execute_result"
    }
   ],
   "source": [
    "# clean the df but no splitting\n",
    "\n",
    "df_cleaned = prepare.cleaning(df)\n",
    "df_cleaned.head()"
   ]
  },
  {
   "cell_type": "code",
   "execution_count": 84,
   "metadata": {},
   "outputs": [
    {
     "data": {
      "text/plain": [
       "((7043, 12), (7043,))"
      ]
     },
     "execution_count": 84,
     "metadata": {},
     "output_type": "execute_result"
    }
   ],
   "source": [
    "# create X and y for the entire df\n",
    "\n",
    "X = df_cleaned.drop(columns=['customer_id','churn','male','phone_service','total_charges','tenure_year'])\n",
    "y =df_cleaned['churn']\n",
    "\n",
    "X.shape, y.shape"
   ]
  },
  {
   "cell_type": "code",
   "execution_count": 85,
   "metadata": {},
   "outputs": [
    {
     "data": {
      "text/html": [
       "<div>\n",
       "<style scoped>\n",
       "    .dataframe tbody tr th:only-of-type {\n",
       "        vertical-align: middle;\n",
       "    }\n",
       "\n",
       "    .dataframe tbody tr th {\n",
       "        vertical-align: top;\n",
       "    }\n",
       "\n",
       "    .dataframe thead th {\n",
       "        text-align: right;\n",
       "    }\n",
       "</style>\n",
       "<table border=\"1\" class=\"dataframe\">\n",
       "  <thead>\n",
       "    <tr style=\"text-align: right;\">\n",
       "      <th></th>\n",
       "      <th>senior_citizen</th>\n",
       "      <th>tenure</th>\n",
       "      <th>device_protection</th>\n",
       "      <th>tech_support</th>\n",
       "      <th>paperless_billing</th>\n",
       "      <th>monthly_charges</th>\n",
       "      <th>contract_type</th>\n",
       "      <th>internet_service</th>\n",
       "      <th>payment_type</th>\n",
       "      <th>partner_dependent</th>\n",
       "      <th>streaming</th>\n",
       "      <th>online_service</th>\n",
       "    </tr>\n",
       "  </thead>\n",
       "  <tbody>\n",
       "    <tr>\n",
       "      <th>0</th>\n",
       "      <td>0</td>\n",
       "      <td>9</td>\n",
       "      <td>0</td>\n",
       "      <td>0</td>\n",
       "      <td>0</td>\n",
       "      <td>59.9</td>\n",
       "      <td>0</td>\n",
       "      <td>1</td>\n",
       "      <td>0</td>\n",
       "      <td>0</td>\n",
       "      <td>1</td>\n",
       "      <td>0</td>\n",
       "    </tr>\n",
       "    <tr>\n",
       "      <th>1</th>\n",
       "      <td>0</td>\n",
       "      <td>9</td>\n",
       "      <td>0</td>\n",
       "      <td>1</td>\n",
       "      <td>1</td>\n",
       "      <td>69.4</td>\n",
       "      <td>0</td>\n",
       "      <td>1</td>\n",
       "      <td>1</td>\n",
       "      <td>1</td>\n",
       "      <td>1</td>\n",
       "      <td>0</td>\n",
       "    </tr>\n",
       "    <tr>\n",
       "      <th>2</th>\n",
       "      <td>1</td>\n",
       "      <td>7</td>\n",
       "      <td>0</td>\n",
       "      <td>0</td>\n",
       "      <td>1</td>\n",
       "      <td>48.2</td>\n",
       "      <td>0</td>\n",
       "      <td>1</td>\n",
       "      <td>0</td>\n",
       "      <td>0</td>\n",
       "      <td>0</td>\n",
       "      <td>1</td>\n",
       "    </tr>\n",
       "    <tr>\n",
       "      <th>3</th>\n",
       "      <td>1</td>\n",
       "      <td>1</td>\n",
       "      <td>0</td>\n",
       "      <td>0</td>\n",
       "      <td>1</td>\n",
       "      <td>25.1</td>\n",
       "      <td>0</td>\n",
       "      <td>1</td>\n",
       "      <td>0</td>\n",
       "      <td>0</td>\n",
       "      <td>0</td>\n",
       "      <td>0</td>\n",
       "    </tr>\n",
       "    <tr>\n",
       "      <th>4</th>\n",
       "      <td>0</td>\n",
       "      <td>1</td>\n",
       "      <td>0</td>\n",
       "      <td>0</td>\n",
       "      <td>0</td>\n",
       "      <td>30.5</td>\n",
       "      <td>0</td>\n",
       "      <td>1</td>\n",
       "      <td>1</td>\n",
       "      <td>1</td>\n",
       "      <td>0</td>\n",
       "      <td>1</td>\n",
       "    </tr>\n",
       "  </tbody>\n",
       "</table>\n",
       "</div>"
      ],
      "text/plain": [
       "   senior_citizen  tenure  device_protection  tech_support  paperless_billing  \\\n",
       "0               0       9                  0             0                  0   \n",
       "1               0       9                  0             1                  1   \n",
       "2               1       7                  0             0                  1   \n",
       "3               1       1                  0             0                  1   \n",
       "4               0       1                  0             0                  0   \n",
       "\n",
       "   monthly_charges  contract_type  internet_service  payment_type  \\\n",
       "0             59.9              0                 1             0   \n",
       "1             69.4              0                 1             1   \n",
       "2             48.2              0                 1             0   \n",
       "3             25.1              0                 1             0   \n",
       "4             30.5              0                 1             1   \n",
       "\n",
       "   partner_dependent  streaming  online_service  \n",
       "0                  0          1               0  \n",
       "1                  1          1               0  \n",
       "2                  0          0               1  \n",
       "3                  0          0               0  \n",
       "4                  1          0               1  "
      ]
     },
     "execution_count": 85,
     "metadata": {},
     "output_type": "execute_result"
    }
   ],
   "source": [
    "X.head()"
   ]
  },
  {
   "cell_type": "code",
   "execution_count": 86,
   "metadata": {},
   "outputs": [
    {
     "name": "stdout",
     "output_type": "stream",
     "text": [
      "0.8411188414028113\n",
      "[[4748  426]\n",
      " [ 693 1176]]\n",
      "              precision    recall  f1-score   support\n",
      "\n",
      "           0       0.87      0.92      0.89      5174\n",
      "           1       0.73      0.63      0.68      1869\n",
      "\n",
      "    accuracy                           0.84      7043\n",
      "   macro avg       0.80      0.77      0.79      7043\n",
      "weighted avg       0.84      0.84      0.84      7043\n",
      "\n"
     ]
    }
   ],
   "source": [
    "# Fit the best model to X and y\n",
    "\n",
    "knn.fit(X, y)\n",
    "\n",
    "y_pred = knn.predict(X)\n",
    "y_pred\n",
    "\n",
    "y_pred_proba = knn.predict_proba(X)\n",
    "\n",
    "# Compute the accuracy\n",
    "\n",
    "print(knn.score(X, y))\n",
    "\n",
    "# Create a confusion matrix\n",
    "\n",
    "print(confusion_matrix(y, y_pred))\n",
    "\n",
    "# Compute Precision, Recall, F1-score, and Support\n",
    "\n",
    "print(classification_report(y, y_pred))"
   ]
  },
  {
   "cell_type": "code",
   "execution_count": 87,
   "metadata": {},
   "outputs": [],
   "source": [
    "# Create data frame contain customer_id only\n",
    "df_predict = df[['customer_id']]\n",
    "\n",
    "# Create the series holding probability of churn\n",
    "P_churn = [i[1] for i in y_pred_proba]\n",
    "\n",
    "# Add columns probability of churn and prediction of churn\n",
    "df_predict['probability_of_churn'] = P_churn\n",
    "df_predict['prediction_of_churn'] = y_pred"
   ]
  },
  {
   "cell_type": "code",
   "execution_count": 88,
   "metadata": {},
   "outputs": [
    {
     "data": {
      "text/html": [
       "<div>\n",
       "<style scoped>\n",
       "    .dataframe tbody tr th:only-of-type {\n",
       "        vertical-align: middle;\n",
       "    }\n",
       "\n",
       "    .dataframe tbody tr th {\n",
       "        vertical-align: top;\n",
       "    }\n",
       "\n",
       "    .dataframe thead th {\n",
       "        text-align: right;\n",
       "    }\n",
       "</style>\n",
       "<table border=\"1\" class=\"dataframe\">\n",
       "  <thead>\n",
       "    <tr style=\"text-align: right;\">\n",
       "      <th></th>\n",
       "      <th>customer_id</th>\n",
       "      <th>probability_of_churn</th>\n",
       "      <th>prediction_of_churn</th>\n",
       "    </tr>\n",
       "  </thead>\n",
       "  <tbody>\n",
       "    <tr>\n",
       "      <th>3773</th>\n",
       "      <td>6179-GJPSO</td>\n",
       "      <td>0.6</td>\n",
       "      <td>1</td>\n",
       "    </tr>\n",
       "    <tr>\n",
       "      <th>5898</th>\n",
       "      <td>7140-ADSMJ</td>\n",
       "      <td>0.0</td>\n",
       "      <td>0</td>\n",
       "    </tr>\n",
       "    <tr>\n",
       "      <th>5354</th>\n",
       "      <td>6435-VWCCY</td>\n",
       "      <td>0.2</td>\n",
       "      <td>0</td>\n",
       "    </tr>\n",
       "    <tr>\n",
       "      <th>2525</th>\n",
       "      <td>0475-RIJEP</td>\n",
       "      <td>0.6</td>\n",
       "      <td>1</td>\n",
       "    </tr>\n",
       "    <tr>\n",
       "      <th>501</th>\n",
       "      <td>4146-SVFUD</td>\n",
       "      <td>0.4</td>\n",
       "      <td>0</td>\n",
       "    </tr>\n",
       "    <tr>\n",
       "      <th>6479</th>\n",
       "      <td>1167-OYZJF</td>\n",
       "      <td>0.0</td>\n",
       "      <td>0</td>\n",
       "    </tr>\n",
       "    <tr>\n",
       "      <th>6153</th>\n",
       "      <td>3251-YMVWZ</td>\n",
       "      <td>0.0</td>\n",
       "      <td>0</td>\n",
       "    </tr>\n",
       "    <tr>\n",
       "      <th>270</th>\n",
       "      <td>2320-SLKMB</td>\n",
       "      <td>0.0</td>\n",
       "      <td>0</td>\n",
       "    </tr>\n",
       "    <tr>\n",
       "      <th>3488</th>\n",
       "      <td>4919-IKATY</td>\n",
       "      <td>1.0</td>\n",
       "      <td>1</td>\n",
       "    </tr>\n",
       "    <tr>\n",
       "      <th>1225</th>\n",
       "      <td>0022-TCJCI</td>\n",
       "      <td>0.2</td>\n",
       "      <td>0</td>\n",
       "    </tr>\n",
       "  </tbody>\n",
       "</table>\n",
       "</div>"
      ],
      "text/plain": [
       "     customer_id  probability_of_churn  prediction_of_churn\n",
       "3773  6179-GJPSO                   0.6                    1\n",
       "5898  7140-ADSMJ                   0.0                    0\n",
       "5354  6435-VWCCY                   0.2                    0\n",
       "2525  0475-RIJEP                   0.6                    1\n",
       "501   4146-SVFUD                   0.4                    0\n",
       "6479  1167-OYZJF                   0.0                    0\n",
       "6153  3251-YMVWZ                   0.0                    0\n",
       "270   2320-SLKMB                   0.0                    0\n",
       "3488  4919-IKATY                   1.0                    1\n",
       "1225  0022-TCJCI                   0.2                    0"
      ]
     },
     "execution_count": 88,
     "metadata": {},
     "output_type": "execute_result"
    }
   ],
   "source": [
    "df_predict.sample(10)"
   ]
  },
  {
   "cell_type": "code",
   "execution_count": 89,
   "metadata": {},
   "outputs": [],
   "source": [
    "df_predict.to_csv('prediction.csv')"
   ]
  },
  {
   "cell_type": "markdown",
   "metadata": {},
   "source": [
    "### Conclusions\n",
    "\n",
    "* The biggest 5 drivers for customer churn are contract_type, internet_service, online_service, tech_support, senior_citizen.\n",
    "\n",
    "* With accuracy of 82.8%, K-Nearest Neighbor are the top model after initial exploration. \n",
    "\n",
    "* Deliverables are successfully produced for the purpose of reproduction and further optimization. "
   ]
  },
  {
   "cell_type": "markdown",
   "metadata": {},
   "source": [
    "### Next Steps\n",
    "\n",
    "* Explore the reasons behind the most influential factors.\n",
    "\n",
    "* Optimize the classification model by combination of different features and changing the hyperparameters of the algorithms.\n",
    "\n",
    "* Explore different encoding strategies for binary categorical variables."
   ]
  },
  {
   "cell_type": "code",
   "execution_count": null,
   "metadata": {},
   "outputs": [],
   "source": []
  }
 ],
 "metadata": {
  "kernelspec": {
   "display_name": "Python 3",
   "language": "python",
   "name": "python3"
  },
  "language_info": {
   "codemirror_mode": {
    "name": "ipython",
    "version": 3
   },
   "file_extension": ".py",
   "mimetype": "text/x-python",
   "name": "python",
   "nbconvert_exporter": "python",
   "pygments_lexer": "ipython3",
   "version": "3.7.6"
  }
 },
 "nbformat": 4,
 "nbformat_minor": 4
}
